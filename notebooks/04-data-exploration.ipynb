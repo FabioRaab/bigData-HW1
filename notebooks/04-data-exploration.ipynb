{
 "cells": [
  {
   "cell_type": "markdown",
   "metadata": {},
   "source": [
    "# Data exploration \n",
    "\n",
    "---\n",
    "\n",
    "Group name: O\n",
    "\n",
    "---\n"
   ]
  },
  {
   "cell_type": "markdown",
   "metadata": {},
   "source": [
    "## Introduction\n",
    "\n",
    "*This section includes a short description of the data* "
   ]
  },
  {
   "cell_type": "markdown",
   "metadata": {},
   "source": [
    "## Setup"
   ]
  },
  {
   "cell_type": "code",
   "execution_count": 7,
   "metadata": {},
   "outputs": [
    {
     "ename": "ModuleNotFoundError",
     "evalue": "No module named 'altair'",
     "output_type": "error",
     "traceback": [
      "\u001B[1;31m---------------------------------------------------------------------------\u001B[0m",
      "\u001B[1;31mModuleNotFoundError\u001B[0m                       Traceback (most recent call last)",
      "\u001B[1;32m<ipython-input-7-e0dbe051b878>\u001B[0m in \u001B[0;36m<module>\u001B[1;34m\u001B[0m\n\u001B[0;32m      1\u001B[0m \u001B[1;32mimport\u001B[0m \u001B[0mpandas\u001B[0m \u001B[1;32mas\u001B[0m \u001B[0mpd\u001B[0m\u001B[1;33m\u001B[0m\u001B[1;33m\u001B[0m\u001B[0m\n\u001B[1;32m----> 2\u001B[1;33m \u001B[1;32mimport\u001B[0m \u001B[0maltair\u001B[0m \u001B[1;32mas\u001B[0m \u001B[0malt\u001B[0m\u001B[1;33m\u001B[0m\u001B[1;33m\u001B[0m\u001B[0m\n\u001B[0m\u001B[0;32m      3\u001B[0m \u001B[1;32mimport\u001B[0m \u001B[0mwarnings\u001B[0m\u001B[1;33m\u001B[0m\u001B[1;33m\u001B[0m\u001B[0m\n\u001B[0;32m      4\u001B[0m \u001B[0mwarnings\u001B[0m\u001B[1;33m.\u001B[0m\u001B[0msimplefilter\u001B[0m\u001B[1;33m(\u001B[0m\u001B[0maction\u001B[0m\u001B[1;33m=\u001B[0m\u001B[1;34m'ignore'\u001B[0m\u001B[1;33m,\u001B[0m \u001B[0mcategory\u001B[0m\u001B[1;33m=\u001B[0m\u001B[0mFutureWarning\u001B[0m\u001B[1;33m)\u001B[0m\u001B[1;33m\u001B[0m\u001B[1;33m\u001B[0m\u001B[0m\n\u001B[0;32m      5\u001B[0m \u001B[1;33m\u001B[0m\u001B[0m\n",
      "\u001B[1;31mModuleNotFoundError\u001B[0m: No module named 'altair'"
     ]
    }
   ],
   "source": [
    "import pandas as pd\n",
    "import altair as alt\n",
    "import warnings\n",
    "warnings.simplefilter(action='ignore', category=FutureWarning)\n",
    "\n",
    "alt.data_transformers.disable_max_rows()\n"
   ]
  },
  {
   "cell_type": "markdown",
   "metadata": {},
   "source": [
    "## Data"
   ]
  },
  {
   "cell_type": "markdown",
   "metadata": {},
   "source": [
    "## Import data"
   ]
  },
  {
   "cell_type": "markdown",
   "metadata": {},
   "source": []
  },
  {
   "cell_type": "code",
   "execution_count": 8,
   "metadata": {},
   "outputs": [],
   "source": [
    "DATAGRADSTUDENTS = \"https://raw.githubusercontent.com/FabioRaab/bigData-HW1/main/data/external/grad-students.csv\""
   ]
  },
  {
   "cell_type": "markdown",
   "metadata": {},
   "source": [
    "### Data structure"
   ]
  },
  {
   "cell_type": "code",
   "execution_count": 9,
   "metadata": {},
   "outputs": [
    {
     "name": "stdout",
     "output_type": "stream",
     "text": [
      "     Major_code                                       Major  \\\n",
      "0          5601                       CONSTRUCTION SERVICES   \n",
      "1          6004           COMMERCIAL ART AND GRAPHIC DESIGN   \n",
      "2          6211                      HOSPITALITY MANAGEMENT   \n",
      "3          2201      COSMETOLOGY SERVICES AND CULINARY ARTS   \n",
      "4          2001                  COMMUNICATION TECHNOLOGIES   \n",
      "..          ...                                         ...   \n",
      "168        5203                       COUNSELING PSYCHOLOGY   \n",
      "169        5202                         CLINICAL PSYCHOLOGY   \n",
      "170        6106     HEALTH AND MEDICAL PREPARATORY PROGRAMS   \n",
      "171        2303                   SCHOOL STUDENT COUNSELING   \n",
      "172        2301  EDUCATIONAL ADMINISTRATION AND SUPERVISION   \n",
      "\n",
      "                          Major_category  Grad_total  Grad_sample_size  \\\n",
      "0    Industrial Arts & Consumer Services        9173               200   \n",
      "1                                   Arts       53864               882   \n",
      "2                               Business       24417               437   \n",
      "3    Industrial Arts & Consumer Services        5411                72   \n",
      "4                Computers & Mathematics        9109               171   \n",
      "..                                   ...         ...               ...   \n",
      "168             Psychology & Social Work       51812               724   \n",
      "169             Psychology & Social Work       22716               355   \n",
      "170                               Health      114971              1766   \n",
      "171                            Education       19841               260   \n",
      "172                            Education       54159               841   \n",
      "\n",
      "     Grad_employed  Grad_full_time_year_round  Grad_unemployed  \\\n",
      "0             7098                       6511              681   \n",
      "1            40492                      29553             2482   \n",
      "2            18368                      14784             1465   \n",
      "3             3590                       2701              316   \n",
      "4             7512                       5622              466   \n",
      "..             ...                        ...              ...   \n",
      "168          38468                      28808             1420   \n",
      "169          16612                      12022              782   \n",
      "170          78132                      58825             1732   \n",
      "171          11313                       8130              613   \n",
      "172          34142                      26850              582   \n",
      "\n",
      "     Grad_unemployment_rate  Grad_median  ...  Nongrad_total  \\\n",
      "0                  0.087543      75000.0  ...          86062   \n",
      "1                  0.057756      60000.0  ...         461977   \n",
      "2                  0.073867      65000.0  ...         179335   \n",
      "3                  0.080901      47000.0  ...          37575   \n",
      "4                  0.058411      57000.0  ...          53819   \n",
      "..                      ...          ...  ...            ...   \n",
      "168                0.035600      50000.0  ...          16781   \n",
      "169                0.044958      70000.0  ...           6519   \n",
      "170                0.021687     135000.0  ...          26320   \n",
      "171                0.051400      56000.0  ...           2232   \n",
      "172                0.016761      65000.0  ...           4003   \n",
      "\n",
      "     Nongrad_employed  Nongrad_full_time_year_round  Nongrad_unemployed  \\\n",
      "0               73607                         62435                3928   \n",
      "1              347166                        250596               25484   \n",
      "2              145597                        113579                7409   \n",
      "3               29738                         23249                1661   \n",
      "4               43163                         34231                3389   \n",
      "..                ...                           ...                 ...   \n",
      "168             12377                          8502                 835   \n",
      "169              4368                          3033                 357   \n",
      "170             16221                         12185                1012   \n",
      "171              1328                           980                 169   \n",
      "172              3079                          2434                   0   \n",
      "\n",
      "     Nongrad_unemployment_rate  Nongrad_median  Nongrad_P25  Nongrad_P75  \\\n",
      "0                     0.050661         65000.0        47000      98000.0   \n",
      "1                     0.068386         48000.0        34000      71000.0   \n",
      "2                     0.048423         50000.0        35000      75000.0   \n",
      "3                     0.052900         41600.0        29000      60000.0   \n",
      "4                     0.072800         52000.0        36000      78000.0   \n",
      "..                         ...             ...          ...          ...   \n",
      "168                   0.063200         40000.0        25000      50000.0   \n",
      "169                   0.075556         46000.0        30000      70000.0   \n",
      "170                   0.058725         51000.0        35000      87000.0   \n",
      "171                   0.112892         42000.0        27000      51000.0   \n",
      "172                   0.000000         58000.0        45000      79000.0   \n",
      "\n",
      "     Grad_share  Grad_premium  \n",
      "0      0.096320      0.153846  \n",
      "1      0.104420      0.250000  \n",
      "2      0.119837      0.300000  \n",
      "3      0.125878      0.129808  \n",
      "4      0.144753      0.096154  \n",
      "..          ...           ...  \n",
      "168    0.755354      0.250000  \n",
      "169    0.777014      0.521739  \n",
      "170    0.813718      1.647059  \n",
      "171    0.898881      0.333333  \n",
      "172    0.931175      0.120690  \n",
      "\n",
      "[173 rows x 22 columns]\n",
      "<class 'pandas.core.frame.DataFrame'>\n",
      "RangeIndex: 173 entries, 0 to 172\n",
      "Data columns (total 22 columns):\n",
      " #   Column                        Non-Null Count  Dtype  \n",
      "---  ------                        --------------  -----  \n",
      " 0   Major_code                    173 non-null    int64  \n",
      " 1   Major                         173 non-null    object \n",
      " 2   Major_category                173 non-null    object \n",
      " 3   Grad_total                    173 non-null    int64  \n",
      " 4   Grad_sample_size              173 non-null    int64  \n",
      " 5   Grad_employed                 173 non-null    int64  \n",
      " 6   Grad_full_time_year_round     173 non-null    int64  \n",
      " 7   Grad_unemployed               173 non-null    int64  \n",
      " 8   Grad_unemployment_rate        173 non-null    float64\n",
      " 9   Grad_median                   173 non-null    float64\n",
      " 10  Grad_P25                      173 non-null    int64  \n",
      " 11  Grad_P75                      173 non-null    float64\n",
      " 12  Nongrad_total                 173 non-null    int64  \n",
      " 13  Nongrad_employed              173 non-null    int64  \n",
      " 14  Nongrad_full_time_year_round  173 non-null    int64  \n",
      " 15  Nongrad_unemployed            173 non-null    int64  \n",
      " 16  Nongrad_unemployment_rate     173 non-null    float64\n",
      " 17  Nongrad_median                173 non-null    float64\n",
      " 18  Nongrad_P25                   173 non-null    int64  \n",
      " 19  Nongrad_P75                   173 non-null    float64\n",
      " 20  Grad_share                    173 non-null    float64\n",
      " 21  Grad_premium                  173 non-null    float64\n",
      "dtypes: float64(8), int64(12), object(2)\n",
      "memory usage: 29.9+ KB\n"
     ]
    }
   ],
   "source": [
    "df = pd.read_csv(DATAGRADSTUDENTS)\n",
    "print(df)\n",
    "\n",
    "df.info()"
   ]
  },
  {
   "cell_type": "markdown",
   "metadata": {},
   "source": [
    "### Data corrections"
   ]
  },
  {
   "cell_type": "code",
   "execution_count": 10,
   "metadata": {},
   "outputs": [],
   "source": [
    "df['Grad_median'] = df['Grad_median'].astype(\"category\")\n",
    "df['Nongrad_median'] = df['Nongrad_median'].astype(\"category\")"
   ]
  },
  {
   "cell_type": "code",
   "execution_count": null,
   "metadata": {},
   "outputs": [],
   "source": [
    "df.info()"
   ]
  },
  {
   "cell_type": "markdown",
   "metadata": {},
   "source": [
    "### Variable lists"
   ]
  },
  {
   "cell_type": "code",
   "execution_count": null,
   "metadata": {},
   "outputs": [],
   "source": [
    "# make a list of variables you want to use\n",
    "var_list = ['Grad_median', 'Nongrad_median']"
   ]
  },
  {
   "cell_type": "code",
   "execution_count": null,
   "metadata": {},
   "outputs": [],
   "source": [
    "source = df[var_list]"
   ]
  },
  {
   "cell_type": "code",
   "execution_count": null,
   "metadata": {},
   "outputs": [],
   "source": [
    "source"
   ]
  },
  {
   "cell_type": "code",
   "execution_count": null,
   "metadata": {},
   "outputs": [],
   "source": [
    "alt.Chart(source).mark_bar().encode(\n",
    "    alt.X(\"Grad_median\", bin=True),\n",
    "    y='count()',\n",
    ")"
   ]
  },
  {
   "cell_type": "code",
   "execution_count": null,
   "metadata": {},
   "outputs": [],
   "source": [
    "# contingency table for application type and homeownership.\n",
    "pd.crosstab(df['Grad_median'],    # rows: Grad_median\n",
    "            df['Nongrad_median'],    # columns: Nongrad_median\n",
    "            margins=True)          # with total count"
   ]
  },
  {
   "cell_type": "code",
   "execution_count": null,
   "metadata": {},
   "outputs": [],
   "source": [
    "chart = alt.Chart(source).mark_bar().encode(\n",
    "    x=alt.X('Grad_median',\n",
    "        sort='-y' ),\n",
    "    y=alt.Y('count(Nongrad_median)')\n",
    ")\n",
    "chart"
   ]
  },
  {
   "cell_type": "code",
   "execution_count": null,
   "metadata": {},
   "outputs": [],
   "source": [
    "#chart\n",
    "\n",
    "#chart.properties( \n",
    " #   title= 'Predicted Score in first halftime',\n",
    "  #  width= 300,\n",
    "   # height= 200)"
   ]
  },
  {
   "cell_type": "code",
   "execution_count": null,
   "metadata": {},
   "outputs": [],
   "source": []
  },
  {
   "cell_type": "markdown",
   "metadata": {},
   "source": []
  }
 ],
 "metadata": {
  "kernelspec": {
   "name": "python3",
   "language": "python",
   "display_name": "Python 3"
  },
  "language_info": {
   "codemirror_mode": {
    "name": "ipython",
    "version": 3
   },
   "file_extension": ".py",
   "mimetype": "text/x-python",
   "name": "python",
   "nbconvert_exporter": "python",
   "pygments_lexer": "ipython3",
   "version": "3.9.13"
  },
  "orig_nbformat": 4,
  "vscode": {
   "interpreter": {
    "hash": "6ecefd7b8bfcf57efb5cc130173e6ed36c52dd59eb123faecd1d895ae54b15db"
   }
  }
 },
 "nbformat": 4,
 "nbformat_minor": 2
}