{
 "cells": [
  {
   "cell_type": "markdown",
   "metadata": {},
   "source": [
    "# Data exploration \n",
    "\n",
    "---\n",
    "\n",
    "Group name: O\n",
    "\n",
    "---\n"
   ]
  },
  {
   "cell_type": "markdown",
   "metadata": {},
   "source": [
    "## Introduction\n",
    "\n",
    "*This section includes a short description of the data* "
   ]
  },
  {
   "cell_type": "markdown",
   "metadata": {},
   "source": [
    "## Setup"
   ]
  },
  {
   "cell_type": "code",
   "execution_count": 201,
   "metadata": {},
   "outputs": [
    {
     "data": {
      "text/plain": [
       "DataTransformerRegistry.enable('default')"
      ]
     },
     "execution_count": 201,
     "metadata": {},
     "output_type": "execute_result"
    }
   ],
   "source": [
    "import pandas as pd\n",
    "import altair as alt\n",
    "import warnings\n",
    "warnings.simplefilter(action='ignore', category=FutureWarning)\n",
    "\n",
    "alt.data_transformers.disable_max_rows()\n"
   ]
  },
  {
   "cell_type": "markdown",
   "metadata": {},
   "source": [
    "## Data"
   ]
  },
  {
   "cell_type": "markdown",
   "metadata": {},
   "source": [
    "## Import data"
   ]
  },
  {
   "cell_type": "markdown",
   "metadata": {},
   "source": []
  },
  {
   "cell_type": "code",
   "execution_count": 202,
   "metadata": {},
   "outputs": [],
   "source": [
    "#DATAGRADSTUDENTS = \"https://raw.githubusercontent.com/FabioRaab/bigData-HW1/main/data/external/grad-students.csv\""
   ]
  },
  {
   "cell_type": "code",
   "execution_count": 203,
   "metadata": {},
   "outputs": [],
   "source": [
    "PoliceKillingsData = \"https://raw.githubusercontent.com/FabioRaab/bigData-HW1/main/data/external/police_killings.csv\""
   ]
  },
  {
   "cell_type": "markdown",
   "metadata": {},
   "source": [
    "### Data structure"
   ]
  },
  {
   "cell_type": "code",
   "execution_count": 204,
   "metadata": {},
   "outputs": [
    {
     "name": "stdout",
     "output_type": "stream",
     "text": [
      "                   name age  gender    raceethnicity     month  day  year  \\\n",
      "0    A'donte Washington  16    Male            Black  February   23  2015   \n",
      "1        Aaron Rutledge  27    Male            White     April    2  2015   \n",
      "2           Aaron Siler  26    Male            White     March   14  2015   \n",
      "3          Aaron Valdez  25    Male  Hispanic/Latino     March   11  2015   \n",
      "4          Adam Jovicic  29    Male            White     March   19  2015   \n",
      "..                  ...  ..     ...              ...       ...  ...   ...   \n",
      "462  William Chapman II  18    Male            Black     April   22  2015   \n",
      "463    William Dick III  28    Male  Native American     April    4  2015   \n",
      "464       William Poole  52    Male            White     March   16  2015   \n",
      "465   Yuvette Henderson  38  Female            Black  February    3  2015   \n",
      "466       Zaki Shinwary  48    Male          Unknown   January   16  2015   \n",
      "\n",
      "                                 streetaddress          city state  ...  \\\n",
      "0                                 Clearview Ln     Millbrook    AL  ...   \n",
      "1                       300 block Iris Park Dr     Pineville    LA  ...   \n",
      "2                         22nd Ave and 56th St       Kenosha    WI  ...   \n",
      "3                            3000 Seminole Ave    South Gate    CA  ...   \n",
      "4                               364 Hiwood Ave  Munroe Falls    OH  ...   \n",
      "..                                         ...           ...   ...  ...   \n",
      "462                        1098 Frederick Blvd    Portsmouth    VA  ...   \n",
      "463             Bureau of Indian Affairs Rd 66      Tonasket    WA  ...   \n",
      "464                             130 Wedowee Ln        Gaston    NC  ...   \n",
      "465                             3800 Hollis St       Oakland    CA  ...   \n",
      "466  Lake Arrowhead Ave and Great Salt Lake Dr       Fremont    CA  ...   \n",
      "\n",
      "     share_hispanic  p_income  h_income  county_income  comp_income  \\\n",
      "0               5.6     28375   51367.0          54766     0.937936   \n",
      "1               0.5     14678   27972.0          40930     0.683411   \n",
      "2              16.8     25286   45365.0          54930     0.825869   \n",
      "3              98.8     17194   48295.0          55909     0.863814   \n",
      "4               1.7     33954   68785.0          49669     1.384868   \n",
      "..              ...       ...       ...            ...          ...   \n",
      "462               0     25262   27418.0          46166     0.593900   \n",
      "463            20.2     18470   35608.0          40368     0.882085   \n",
      "464             0.3     21175   38200.0          42017     0.909156   \n",
      "465            37.1     26971   63052.0          72112     0.874362   \n",
      "466            12.3     33590   88940.0          72112     1.233359   \n",
      "\n",
      "     county_bucket  nat_bucket   pov     urate   college  \n",
      "0              3.0         3.0  14.1  0.097686  0.168510  \n",
      "1              2.0         1.0  28.8  0.065724  0.111402  \n",
      "2              2.0         3.0  14.6  0.166293  0.147312  \n",
      "3              3.0         3.0  11.7  0.124827  0.050133  \n",
      "4              5.0         4.0   1.9  0.063550  0.403954  \n",
      "..             ...         ...   ...       ...       ...  \n",
      "462            1.0         1.0  35.2  0.152047  0.120553  \n",
      "463            1.0         2.0  27.3  0.133650  0.174525  \n",
      "464            2.0         2.0  28.5  0.256150  0.072764  \n",
      "465            2.0         4.0  23.9  0.069601  0.396476  \n",
      "466            4.0         5.0   6.1  0.080912  0.435773  \n",
      "\n",
      "[467 rows x 34 columns]\n",
      "<class 'pandas.core.frame.DataFrame'>\n",
      "RangeIndex: 467 entries, 0 to 466\n",
      "Data columns (total 34 columns):\n",
      " #   Column                Non-Null Count  Dtype  \n",
      "---  ------                --------------  -----  \n",
      " 0   name                  467 non-null    object \n",
      " 1   age                   467 non-null    object \n",
      " 2   gender                467 non-null    object \n",
      " 3   raceethnicity         467 non-null    object \n",
      " 4   month                 467 non-null    object \n",
      " 5   day                   467 non-null    int64  \n",
      " 6   year                  467 non-null    int64  \n",
      " 7   streetaddress         463 non-null    object \n",
      " 8   city                  467 non-null    object \n",
      " 9   state                 467 non-null    object \n",
      " 10  latitude              467 non-null    float64\n",
      " 11  longitude             467 non-null    float64\n",
      " 12  state_fp              467 non-null    int64  \n",
      " 13  county_fp             467 non-null    int64  \n",
      " 14  tract_ce              467 non-null    int64  \n",
      " 15  geo_id                467 non-null    int64  \n",
      " 16  county_id             467 non-null    int64  \n",
      " 17  namelsad              467 non-null    object \n",
      " 18  lawenforcementagency  467 non-null    object \n",
      " 19  cause                 467 non-null    object \n",
      " 20  armed                 467 non-null    object \n",
      " 21  pop                   467 non-null    int64  \n",
      " 22  share_white           467 non-null    object \n",
      " 23  share_black           467 non-null    object \n",
      " 24  share_hispanic        467 non-null    object \n",
      " 25  p_income              467 non-null    object \n",
      " 26  h_income              465 non-null    float64\n",
      " 27  county_income         467 non-null    int64  \n",
      " 28  comp_income           465 non-null    float64\n",
      " 29  county_bucket         440 non-null    float64\n",
      " 30  nat_bucket            465 non-null    float64\n",
      " 31  pov                   467 non-null    object \n",
      " 32  urate                 465 non-null    float64\n",
      " 33  college               465 non-null    float64\n",
      "dtypes: float64(8), int64(9), object(17)\n",
      "memory usage: 124.2+ KB\n"
     ]
    }
   ],
   "source": [
    "df = pd.read_csv(PoliceKillingsData)\n",
    "print(df)\n",
    "\n",
    "df.info()"
   ]
  },
  {
   "cell_type": "markdown",
   "metadata": {},
   "source": [
    "### Data corrections"
   ]
  },
  {
   "cell_type": "code",
   "execution_count": 205,
   "metadata": {},
   "outputs": [],
   "source": [
    "df['cause'] = df['cause'].astype(\"category\")"
   ]
  },
  {
   "cell_type": "code",
   "execution_count": 206,
   "metadata": {},
   "outputs": [
    {
     "name": "stdout",
     "output_type": "stream",
     "text": [
      "<class 'pandas.core.frame.DataFrame'>\n",
      "RangeIndex: 467 entries, 0 to 466\n",
      "Data columns (total 34 columns):\n",
      " #   Column                Non-Null Count  Dtype   \n",
      "---  ------                --------------  -----   \n",
      " 0   name                  467 non-null    object  \n",
      " 1   age                   467 non-null    object  \n",
      " 2   gender                467 non-null    object  \n",
      " 3   raceethnicity         467 non-null    object  \n",
      " 4   month                 467 non-null    object  \n",
      " 5   day                   467 non-null    int64   \n",
      " 6   year                  467 non-null    int64   \n",
      " 7   streetaddress         463 non-null    object  \n",
      " 8   city                  467 non-null    object  \n",
      " 9   state                 467 non-null    object  \n",
      " 10  latitude              467 non-null    float64 \n",
      " 11  longitude             467 non-null    float64 \n",
      " 12  state_fp              467 non-null    int64   \n",
      " 13  county_fp             467 non-null    int64   \n",
      " 14  tract_ce              467 non-null    int64   \n",
      " 15  geo_id                467 non-null    int64   \n",
      " 16  county_id             467 non-null    int64   \n",
      " 17  namelsad              467 non-null    object  \n",
      " 18  lawenforcementagency  467 non-null    object  \n",
      " 19  cause                 467 non-null    category\n",
      " 20  armed                 467 non-null    object  \n",
      " 21  pop                   467 non-null    int64   \n",
      " 22  share_white           467 non-null    object  \n",
      " 23  share_black           467 non-null    object  \n",
      " 24  share_hispanic        467 non-null    object  \n",
      " 25  p_income              467 non-null    object  \n",
      " 26  h_income              465 non-null    float64 \n",
      " 27  county_income         467 non-null    int64   \n",
      " 28  comp_income           465 non-null    float64 \n",
      " 29  county_bucket         440 non-null    float64 \n",
      " 30  nat_bucket            465 non-null    float64 \n",
      " 31  pov                   467 non-null    object  \n",
      " 32  urate                 465 non-null    float64 \n",
      " 33  college               465 non-null    float64 \n",
      "dtypes: category(1), float64(8), int64(9), object(16)\n",
      "memory usage: 121.2+ KB\n"
     ]
    }
   ],
   "source": [
    "df.info()"
   ]
  },
  {
   "cell_type": "markdown",
   "metadata": {},
   "source": [
    "### Variable lists"
   ]
  },
  {
   "cell_type": "code",
   "execution_count": 218,
   "metadata": {},
   "outputs": [],
   "source": [
    "# make a list of variables you want to use\n",
    "var_list = ['gender', 'cause']"
   ]
  },
  {
   "cell_type": "code",
   "execution_count": 219,
   "metadata": {},
   "outputs": [],
   "source": [
    "source = df[var_list]"
   ]
  },
  {
   "cell_type": "code",
   "execution_count": 220,
   "metadata": {},
   "outputs": [
    {
     "data": {
      "text/html": [
       "<div>\n",
       "<style scoped>\n",
       "    .dataframe tbody tr th:only-of-type {\n",
       "        vertical-align: middle;\n",
       "    }\n",
       "\n",
       "    .dataframe tbody tr th {\n",
       "        vertical-align: top;\n",
       "    }\n",
       "\n",
       "    .dataframe thead th {\n",
       "        text-align: right;\n",
       "    }\n",
       "</style>\n",
       "<table border=\"1\" class=\"dataframe\">\n",
       "  <thead>\n",
       "    <tr style=\"text-align: right;\">\n",
       "      <th></th>\n",
       "      <th>gender</th>\n",
       "      <th>cause</th>\n",
       "    </tr>\n",
       "  </thead>\n",
       "  <tbody>\n",
       "    <tr>\n",
       "      <th>0</th>\n",
       "      <td>Male</td>\n",
       "      <td>Gunshot</td>\n",
       "    </tr>\n",
       "    <tr>\n",
       "      <th>1</th>\n",
       "      <td>Male</td>\n",
       "      <td>Gunshot</td>\n",
       "    </tr>\n",
       "    <tr>\n",
       "      <th>2</th>\n",
       "      <td>Male</td>\n",
       "      <td>Gunshot</td>\n",
       "    </tr>\n",
       "    <tr>\n",
       "      <th>3</th>\n",
       "      <td>Male</td>\n",
       "      <td>Gunshot</td>\n",
       "    </tr>\n",
       "    <tr>\n",
       "      <th>4</th>\n",
       "      <td>Male</td>\n",
       "      <td>Gunshot</td>\n",
       "    </tr>\n",
       "    <tr>\n",
       "      <th>...</th>\n",
       "      <td>...</td>\n",
       "      <td>...</td>\n",
       "    </tr>\n",
       "    <tr>\n",
       "      <th>462</th>\n",
       "      <td>Male</td>\n",
       "      <td>Gunshot</td>\n",
       "    </tr>\n",
       "    <tr>\n",
       "      <th>463</th>\n",
       "      <td>Male</td>\n",
       "      <td>Taser</td>\n",
       "    </tr>\n",
       "    <tr>\n",
       "      <th>464</th>\n",
       "      <td>Male</td>\n",
       "      <td>Gunshot</td>\n",
       "    </tr>\n",
       "    <tr>\n",
       "      <th>465</th>\n",
       "      <td>Female</td>\n",
       "      <td>Gunshot</td>\n",
       "    </tr>\n",
       "    <tr>\n",
       "      <th>466</th>\n",
       "      <td>Male</td>\n",
       "      <td>Gunshot</td>\n",
       "    </tr>\n",
       "  </tbody>\n",
       "</table>\n",
       "<p>467 rows × 2 columns</p>\n",
       "</div>"
      ],
      "text/plain": [
       "     gender    cause\n",
       "0      Male  Gunshot\n",
       "1      Male  Gunshot\n",
       "2      Male  Gunshot\n",
       "3      Male  Gunshot\n",
       "4      Male  Gunshot\n",
       "..      ...      ...\n",
       "462    Male  Gunshot\n",
       "463    Male    Taser\n",
       "464    Male  Gunshot\n",
       "465  Female  Gunshot\n",
       "466    Male  Gunshot\n",
       "\n",
       "[467 rows x 2 columns]"
      ]
     },
     "execution_count": 220,
     "metadata": {},
     "output_type": "execute_result"
    }
   ],
   "source": [
    "source"
   ]
  },
  {
   "cell_type": "markdown",
   "metadata": {},
   "source": [
    "# Visualization 1: Bar plot analyzing cause of death"
   ]
  },
  {
   "cell_type": "markdown",
   "metadata": {},
   "source": [
    "I want to analyse the main causes of death accordig to the data set. In order to do so, I will be visualizing all causes of death in a bar chart since this is the easiest way to see, which cause of death is the most frequent one. We'll also make this bar plot interactive to enable the viewer to see the exact count of records."
   ]
  },
  {
   "cell_type": "code",
   "execution_count": 221,
   "metadata": {},
   "outputs": [],
   "source": [
    "ChartCause = alt.Chart(source).mark_bar().encode(\n",
    "     x=alt.X('cause',\n",
    "        sort='-y' ),\n",
    "    y=alt.Y('count(cause)')\n",
    ")"
   ]
  },
  {
   "cell_type": "code",
   "execution_count": 229,
   "metadata": {},
   "outputs": [
    {
     "data": {
      "text/html": [
       "\n",
       "<div id=\"altair-viz-05ed02b9618848e989d539b798d03615\"></div>\n",
       "<script type=\"text/javascript\">\n",
       "  var VEGA_DEBUG = (typeof VEGA_DEBUG == \"undefined\") ? {} : VEGA_DEBUG;\n",
       "  (function(spec, embedOpt){\n",
       "    let outputDiv = document.currentScript.previousElementSibling;\n",
       "    if (outputDiv.id !== \"altair-viz-05ed02b9618848e989d539b798d03615\") {\n",
       "      outputDiv = document.getElementById(\"altair-viz-05ed02b9618848e989d539b798d03615\");\n",
       "    }\n",
       "    const paths = {\n",
       "      \"vega\": \"https://cdn.jsdelivr.net/npm//vega@5?noext\",\n",
       "      \"vega-lib\": \"https://cdn.jsdelivr.net/npm//vega-lib?noext\",\n",
       "      \"vega-lite\": \"https://cdn.jsdelivr.net/npm//vega-lite@4.17.0?noext\",\n",
       "      \"vega-embed\": \"https://cdn.jsdelivr.net/npm//vega-embed@6?noext\",\n",
       "    };\n",
       "\n",
       "    function maybeLoadScript(lib, version) {\n",
       "      var key = `${lib.replace(\"-\", \"\")}_version`;\n",
       "      return (VEGA_DEBUG[key] == version) ?\n",
       "        Promise.resolve(paths[lib]) :\n",
       "        new Promise(function(resolve, reject) {\n",
       "          var s = document.createElement('script');\n",
       "          document.getElementsByTagName(\"head\")[0].appendChild(s);\n",
       "          s.async = true;\n",
       "          s.onload = () => {\n",
       "            VEGA_DEBUG[key] = version;\n",
       "            return resolve(paths[lib]);\n",
       "          };\n",
       "          s.onerror = () => reject(`Error loading script: ${paths[lib]}`);\n",
       "          s.src = paths[lib];\n",
       "        });\n",
       "    }\n",
       "\n",
       "    function showError(err) {\n",
       "      outputDiv.innerHTML = `<div class=\"error\" style=\"color:red;\">${err}</div>`;\n",
       "      throw err;\n",
       "    }\n",
       "\n",
       "    function displayChart(vegaEmbed) {\n",
       "      vegaEmbed(outputDiv, spec, embedOpt)\n",
       "        .catch(err => showError(`Javascript Error: ${err.message}<br>This usually means there's a typo in your chart specification. See the javascript console for the full traceback.`));\n",
       "    }\n",
       "\n",
       "    if(typeof define === \"function\" && define.amd) {\n",
       "      requirejs.config({paths});\n",
       "      require([\"vega-embed\"], displayChart, err => showError(`Error loading script: ${err.message}`));\n",
       "    } else {\n",
       "      maybeLoadScript(\"vega\", \"5\")\n",
       "        .then(() => maybeLoadScript(\"vega-lite\", \"4.17.0\"))\n",
       "        .then(() => maybeLoadScript(\"vega-embed\", \"6\"))\n",
       "        .catch(showError)\n",
       "        .then(() => displayChart(vegaEmbed));\n",
       "    }\n",
       "  })({\"config\": {\"view\": {\"continuousWidth\": 400, \"continuousHeight\": 300}}, \"data\": {\"name\": \"data-de1abba99d990d53a9b14314b5fbed79\"}, \"mark\": \"bar\", \"encoding\": {\"tooltip\": [{\"aggregate\": \"count\", \"field\": \"cause\", \"type\": \"nominal\"}], \"x\": {\"axis\": {\"labelAngle\": 0, \"title\": \"Cause of death\"}, \"field\": \"cause\", \"sort\": \"-y\", \"type\": \"nominal\"}, \"y\": {\"aggregate\": \"count\", \"field\": \"cause\", \"type\": \"nominal\"}}, \"height\": 400, \"selection\": {\"selector008\": {\"type\": \"interval\", \"bind\": \"scales\", \"encodings\": [\"x\", \"y\"]}}, \"title\": \"Cause of death\", \"width\": 500, \"$schema\": \"https://vega.github.io/schema/vega-lite/v4.17.0.json\", \"datasets\": {\"data-de1abba99d990d53a9b14314b5fbed79\": [{\"gender\": \"Male\", \"cause\": \"Gunshot\"}, {\"gender\": \"Male\", \"cause\": \"Gunshot\"}, {\"gender\": \"Male\", \"cause\": \"Gunshot\"}, {\"gender\": \"Male\", \"cause\": \"Gunshot\"}, {\"gender\": \"Male\", \"cause\": \"Gunshot\"}, {\"gender\": \"Male\", \"cause\": \"Gunshot\"}, {\"gender\": \"Male\", \"cause\": \"Gunshot\"}, {\"gender\": \"Male\", \"cause\": \"Gunshot\"}, {\"gender\": \"Male\", \"cause\": \"Gunshot\"}, {\"gender\": \"Male\", \"cause\": \"Gunshot\"}, {\"gender\": \"Male\", \"cause\": \"Gunshot\"}, {\"gender\": \"Male\", \"cause\": \"Gunshot\"}, {\"gender\": \"Male\", \"cause\": \"Gunshot\"}, {\"gender\": \"Male\", \"cause\": \"Gunshot\"}, {\"gender\": \"Male\", \"cause\": \"Gunshot\"}, {\"gender\": \"Male\", \"cause\": \"Gunshot\"}, {\"gender\": \"Female\", \"cause\": \"Gunshot\"}, {\"gender\": \"Male\", \"cause\": \"Gunshot\"}, {\"gender\": \"Female\", \"cause\": \"Gunshot\"}, {\"gender\": \"Male\", \"cause\": \"Death in custody\"}, {\"gender\": \"Male\", \"cause\": \"Gunshot\"}, {\"gender\": \"Male\", \"cause\": \"Death in custody\"}, {\"gender\": \"Male\", \"cause\": \"Gunshot\"}, {\"gender\": \"Male\", \"cause\": \"Gunshot\"}, {\"gender\": \"Male\", \"cause\": \"Gunshot\"}, {\"gender\": \"Male\", \"cause\": \"Gunshot\"}, {\"gender\": \"Male\", \"cause\": \"Gunshot\"}, {\"gender\": \"Male\", \"cause\": \"Gunshot\"}, {\"gender\": \"Male\", \"cause\": \"Gunshot\"}, {\"gender\": \"Male\", \"cause\": \"Gunshot\"}, {\"gender\": \"Male\", \"cause\": \"Gunshot\"}, {\"gender\": \"Male\", \"cause\": \"Gunshot\"}, {\"gender\": \"Male\", \"cause\": \"Gunshot\"}, {\"gender\": \"Male\", \"cause\": \"Gunshot\"}, {\"gender\": \"Male\", \"cause\": \"Gunshot\"}, {\"gender\": \"Male\", \"cause\": \"Gunshot\"}, {\"gender\": \"Male\", \"cause\": \"Gunshot\"}, {\"gender\": \"Male\", \"cause\": \"Gunshot\"}, {\"gender\": \"Male\", \"cause\": \"Gunshot\"}, {\"gender\": \"Male\", \"cause\": \"Gunshot\"}, {\"gender\": \"Male\", \"cause\": \"Gunshot\"}, {\"gender\": \"Male\", \"cause\": \"Taser\"}, {\"gender\": \"Male\", \"cause\": \"Gunshot\"}, {\"gender\": \"Male\", \"cause\": \"Gunshot\"}, {\"gender\": \"Female\", \"cause\": \"Gunshot\"}, {\"gender\": \"Male\", \"cause\": \"Gunshot\"}, {\"gender\": \"Male\", \"cause\": \"Gunshot\"}, {\"gender\": \"Male\", \"cause\": \"Struck by vehicle\"}, {\"gender\": \"Female\", \"cause\": \"Gunshot\"}, {\"gender\": \"Male\", \"cause\": \"Gunshot\"}, {\"gender\": \"Male\", \"cause\": \"Gunshot\"}, {\"gender\": \"Male\", \"cause\": \"Gunshot\"}, {\"gender\": \"Male\", \"cause\": \"Gunshot\"}, {\"gender\": \"Male\", \"cause\": \"Gunshot\"}, {\"gender\": \"Male\", \"cause\": \"Gunshot\"}, {\"gender\": \"Male\", \"cause\": \"Gunshot\"}, {\"gender\": \"Male\", \"cause\": \"Gunshot\"}, {\"gender\": \"Male\", \"cause\": \"Gunshot\"}, {\"gender\": \"Male\", \"cause\": \"Gunshot\"}, {\"gender\": \"Male\", \"cause\": \"Gunshot\"}, {\"gender\": \"Male\", \"cause\": \"Taser\"}, {\"gender\": \"Male\", \"cause\": \"Gunshot\"}, {\"gender\": \"Male\", \"cause\": \"Gunshot\"}, {\"gender\": \"Male\", \"cause\": \"Gunshot\"}, {\"gender\": \"Male\", \"cause\": \"Gunshot\"}, {\"gender\": \"Male\", \"cause\": \"Taser\"}, {\"gender\": \"Male\", \"cause\": \"Gunshot\"}, {\"gender\": \"Male\", \"cause\": \"Gunshot\"}, {\"gender\": \"Male\", \"cause\": \"Gunshot\"}, {\"gender\": \"Male\", \"cause\": \"Gunshot\"}, {\"gender\": \"Male\", \"cause\": \"Gunshot\"}, {\"gender\": \"Male\", \"cause\": \"Gunshot\"}, {\"gender\": \"Male\", \"cause\": \"Gunshot\"}, {\"gender\": \"Male\", \"cause\": \"Taser\"}, {\"gender\": \"Male\", \"cause\": \"Gunshot\"}, {\"gender\": \"Male\", \"cause\": \"Gunshot\"}, {\"gender\": \"Male\", \"cause\": \"Gunshot\"}, {\"gender\": \"Male\", \"cause\": \"Gunshot\"}, {\"gender\": \"Male\", \"cause\": \"Gunshot\"}, {\"gender\": \"Male\", \"cause\": \"Gunshot\"}, {\"gender\": \"Male\", \"cause\": \"Gunshot\"}, {\"gender\": \"Male\", \"cause\": \"Gunshot\"}, {\"gender\": \"Male\", \"cause\": \"Gunshot\"}, {\"gender\": \"Male\", \"cause\": \"Gunshot\"}, {\"gender\": \"Male\", \"cause\": \"Gunshot\"}, {\"gender\": \"Male\", \"cause\": \"Gunshot\"}, {\"gender\": \"Female\", \"cause\": \"Gunshot\"}, {\"gender\": \"Male\", \"cause\": \"Gunshot\"}, {\"gender\": \"Male\", \"cause\": \"Taser\"}, {\"gender\": \"Male\", \"cause\": \"Gunshot\"}, {\"gender\": \"Male\", \"cause\": \"Gunshot\"}, {\"gender\": \"Male\", \"cause\": \"Gunshot\"}, {\"gender\": \"Male\", \"cause\": \"Gunshot\"}, {\"gender\": \"Male\", \"cause\": \"Gunshot\"}, {\"gender\": \"Male\", \"cause\": \"Gunshot\"}, {\"gender\": \"Male\", \"cause\": \"Gunshot\"}, {\"gender\": \"Male\", \"cause\": \"Gunshot\"}, {\"gender\": \"Male\", \"cause\": \"Gunshot\"}, {\"gender\": \"Male\", \"cause\": \"Gunshot\"}, {\"gender\": \"Male\", \"cause\": \"Taser\"}, {\"gender\": \"Male\", \"cause\": \"Taser\"}, {\"gender\": \"Male\", \"cause\": \"Gunshot\"}, {\"gender\": \"Male\", \"cause\": \"Gunshot\"}, {\"gender\": \"Male\", \"cause\": \"Gunshot\"}, {\"gender\": \"Male\", \"cause\": \"Gunshot\"}, {\"gender\": \"Male\", \"cause\": \"Gunshot\"}, {\"gender\": \"Male\", \"cause\": \"Gunshot\"}, {\"gender\": \"Male\", \"cause\": \"Gunshot\"}, {\"gender\": \"Male\", \"cause\": \"Gunshot\"}, {\"gender\": \"Male\", \"cause\": \"Taser\"}, {\"gender\": \"Male\", \"cause\": \"Gunshot\"}, {\"gender\": \"Male\", \"cause\": \"Taser\"}, {\"gender\": \"Male\", \"cause\": \"Gunshot\"}, {\"gender\": \"Male\", \"cause\": \"Gunshot\"}, {\"gender\": \"Male\", \"cause\": \"Struck by vehicle\"}, {\"gender\": \"Male\", \"cause\": \"Taser\"}, {\"gender\": \"Male\", \"cause\": \"Struck by vehicle\"}, {\"gender\": \"Male\", \"cause\": \"Gunshot\"}, {\"gender\": \"Female\", \"cause\": \"Gunshot\"}, {\"gender\": \"Male\", \"cause\": \"Gunshot\"}, {\"gender\": \"Male\", \"cause\": \"Gunshot\"}, {\"gender\": \"Male\", \"cause\": \"Gunshot\"}, {\"gender\": \"Male\", \"cause\": \"Death in custody\"}, {\"gender\": \"Male\", \"cause\": \"Gunshot\"}, {\"gender\": \"Male\", \"cause\": \"Gunshot\"}, {\"gender\": \"Male\", \"cause\": \"Gunshot\"}, {\"gender\": \"Male\", \"cause\": \"Gunshot\"}, {\"gender\": \"Male\", \"cause\": \"Gunshot\"}, {\"gender\": \"Male\", \"cause\": \"Gunshot\"}, {\"gender\": \"Male\", \"cause\": \"Gunshot\"}, {\"gender\": \"Male\", \"cause\": \"Gunshot\"}, {\"gender\": \"Male\", \"cause\": \"Gunshot\"}, {\"gender\": \"Male\", \"cause\": \"Gunshot\"}, {\"gender\": \"Male\", \"cause\": \"Taser\"}, {\"gender\": \"Male\", \"cause\": \"Gunshot\"}, {\"gender\": \"Male\", \"cause\": \"Taser\"}, {\"gender\": \"Male\", \"cause\": \"Gunshot\"}, {\"gender\": \"Male\", \"cause\": \"Gunshot\"}, {\"gender\": \"Male\", \"cause\": \"Gunshot\"}, {\"gender\": \"Male\", \"cause\": \"Gunshot\"}, {\"gender\": \"Male\", \"cause\": \"Gunshot\"}, {\"gender\": \"Male\", \"cause\": \"Gunshot\"}, {\"gender\": \"Male\", \"cause\": \"Gunshot\"}, {\"gender\": \"Male\", \"cause\": \"Gunshot\"}, {\"gender\": \"Male\", \"cause\": \"Gunshot\"}, {\"gender\": \"Male\", \"cause\": \"Gunshot\"}, {\"gender\": \"Male\", \"cause\": \"Gunshot\"}, {\"gender\": \"Male\", \"cause\": \"Gunshot\"}, {\"gender\": \"Male\", \"cause\": \"Gunshot\"}, {\"gender\": \"Male\", \"cause\": \"Gunshot\"}, {\"gender\": \"Male\", \"cause\": \"Gunshot\"}, {\"gender\": \"Male\", \"cause\": \"Gunshot\"}, {\"gender\": \"Male\", \"cause\": \"Gunshot\"}, {\"gender\": \"Male\", \"cause\": \"Gunshot\"}, {\"gender\": \"Male\", \"cause\": \"Gunshot\"}, {\"gender\": \"Male\", \"cause\": \"Gunshot\"}, {\"gender\": \"Male\", \"cause\": \"Gunshot\"}, {\"gender\": \"Male\", \"cause\": \"Gunshot\"}, {\"gender\": \"Male\", \"cause\": \"Gunshot\"}, {\"gender\": \"Male\", \"cause\": \"Gunshot\"}, {\"gender\": \"Male\", \"cause\": \"Gunshot\"}, {\"gender\": \"Male\", \"cause\": \"Gunshot\"}, {\"gender\": \"Male\", \"cause\": \"Gunshot\"}, {\"gender\": \"Male\", \"cause\": \"Gunshot\"}, {\"gender\": \"Male\", \"cause\": \"Gunshot\"}, {\"gender\": \"Male\", \"cause\": \"Gunshot\"}, {\"gender\": \"Male\", \"cause\": \"Gunshot\"}, {\"gender\": \"Male\", \"cause\": \"Death in custody\"}, {\"gender\": \"Male\", \"cause\": \"Gunshot\"}, {\"gender\": \"Male\", \"cause\": \"Gunshot\"}, {\"gender\": \"Male\", \"cause\": \"Struck by vehicle\"}, {\"gender\": \"Male\", \"cause\": \"Gunshot\"}, {\"gender\": \"Male\", \"cause\": \"Gunshot\"}, {\"gender\": \"Male\", \"cause\": \"Gunshot\"}, {\"gender\": \"Male\", \"cause\": \"Gunshot\"}, {\"gender\": \"Male\", \"cause\": \"Gunshot\"}, {\"gender\": \"Male\", \"cause\": \"Gunshot\"}, {\"gender\": \"Male\", \"cause\": \"Gunshot\"}, {\"gender\": \"Male\", \"cause\": \"Taser\"}, {\"gender\": \"Male\", \"cause\": \"Gunshot\"}, {\"gender\": \"Male\", \"cause\": \"Gunshot\"}, {\"gender\": \"Male\", \"cause\": \"Gunshot\"}, {\"gender\": \"Male\", \"cause\": \"Gunshot\"}, {\"gender\": \"Male\", \"cause\": \"Gunshot\"}, {\"gender\": \"Male\", \"cause\": \"Gunshot\"}, {\"gender\": \"Male\", \"cause\": \"Gunshot\"}, {\"gender\": \"Male\", \"cause\": \"Struck by vehicle\"}, {\"gender\": \"Female\", \"cause\": \"Struck by vehicle\"}, {\"gender\": \"Male\", \"cause\": \"Gunshot\"}, {\"gender\": \"Male\", \"cause\": \"Gunshot\"}, {\"gender\": \"Male\", \"cause\": \"Gunshot\"}, {\"gender\": \"Male\", \"cause\": \"Gunshot\"}, {\"gender\": \"Male\", \"cause\": \"Gunshot\"}, {\"gender\": \"Male\", \"cause\": \"Gunshot\"}, {\"gender\": \"Male\", \"cause\": \"Gunshot\"}, {\"gender\": \"Male\", \"cause\": \"Gunshot\"}, {\"gender\": \"Male\", \"cause\": \"Gunshot\"}, {\"gender\": \"Male\", \"cause\": \"Gunshot\"}, {\"gender\": \"Male\", \"cause\": \"Gunshot\"}, {\"gender\": \"Male\", \"cause\": \"Gunshot\"}, {\"gender\": \"Male\", \"cause\": \"Gunshot\"}, {\"gender\": \"Male\", \"cause\": \"Gunshot\"}, {\"gender\": \"Male\", \"cause\": \"Gunshot\"}, {\"gender\": \"Male\", \"cause\": \"Gunshot\"}, {\"gender\": \"Male\", \"cause\": \"Struck by vehicle\"}, {\"gender\": \"Male\", \"cause\": \"Gunshot\"}, {\"gender\": \"Male\", \"cause\": \"Gunshot\"}, {\"gender\": \"Male\", \"cause\": \"Gunshot\"}, {\"gender\": \"Male\", \"cause\": \"Gunshot\"}, {\"gender\": \"Female\", \"cause\": \"Gunshot\"}, {\"gender\": \"Male\", \"cause\": \"Gunshot\"}, {\"gender\": \"Male\", \"cause\": \"Gunshot\"}, {\"gender\": \"Male\", \"cause\": \"Gunshot\"}, {\"gender\": \"Male\", \"cause\": \"Struck by vehicle\"}, {\"gender\": \"Male\", \"cause\": \"Gunshot\"}, {\"gender\": \"Male\", \"cause\": \"Gunshot\"}, {\"gender\": \"Male\", \"cause\": \"Gunshot\"}, {\"gender\": \"Male\", \"cause\": \"Gunshot\"}, {\"gender\": \"Male\", \"cause\": \"Gunshot\"}, {\"gender\": \"Male\", \"cause\": \"Gunshot\"}, {\"gender\": \"Male\", \"cause\": \"Gunshot\"}, {\"gender\": \"Male\", \"cause\": \"Gunshot\"}, {\"gender\": \"Male\", \"cause\": \"Death in custody\"}, {\"gender\": \"Male\", \"cause\": \"Gunshot\"}, {\"gender\": \"Male\", \"cause\": \"Gunshot\"}, {\"gender\": \"Male\", \"cause\": \"Struck by vehicle\"}, {\"gender\": \"Male\", \"cause\": \"Gunshot\"}, {\"gender\": \"Male\", \"cause\": \"Gunshot\"}, {\"gender\": \"Male\", \"cause\": \"Gunshot\"}, {\"gender\": \"Male\", \"cause\": \"Gunshot\"}, {\"gender\": \"Male\", \"cause\": \"Gunshot\"}, {\"gender\": \"Male\", \"cause\": \"Gunshot\"}, {\"gender\": \"Male\", \"cause\": \"Gunshot\"}, {\"gender\": \"Female\", \"cause\": \"Gunshot\"}, {\"gender\": \"Female\", \"cause\": \"Gunshot\"}, {\"gender\": \"Male\", \"cause\": \"Gunshot\"}, {\"gender\": \"Male\", \"cause\": \"Gunshot\"}, {\"gender\": \"Male\", \"cause\": \"Gunshot\"}, {\"gender\": \"Male\", \"cause\": \"Gunshot\"}, {\"gender\": \"Male\", \"cause\": \"Gunshot\"}, {\"gender\": \"Male\", \"cause\": \"Gunshot\"}, {\"gender\": \"Male\", \"cause\": \"Gunshot\"}, {\"gender\": \"Male\", \"cause\": \"Unknown\"}, {\"gender\": \"Male\", \"cause\": \"Gunshot\"}, {\"gender\": \"Male\", \"cause\": \"Gunshot\"}, {\"gender\": \"Male\", \"cause\": \"Gunshot\"}, {\"gender\": \"Male\", \"cause\": \"Gunshot\"}, {\"gender\": \"Male\", \"cause\": \"Gunshot\"}, {\"gender\": \"Male\", \"cause\": \"Gunshot\"}, {\"gender\": \"Male\", \"cause\": \"Gunshot\"}, {\"gender\": \"Male\", \"cause\": \"Gunshot\"}, {\"gender\": \"Male\", \"cause\": \"Gunshot\"}, {\"gender\": \"Male\", \"cause\": \"Gunshot\"}, {\"gender\": \"Male\", \"cause\": \"Death in custody\"}, {\"gender\": \"Male\", \"cause\": \"Gunshot\"}, {\"gender\": \"Male\", \"cause\": \"Gunshot\"}, {\"gender\": \"Male\", \"cause\": \"Gunshot\"}, {\"gender\": \"Male\", \"cause\": \"Gunshot\"}, {\"gender\": \"Male\", \"cause\": \"Gunshot\"}, {\"gender\": \"Male\", \"cause\": \"Gunshot\"}, {\"gender\": \"Male\", \"cause\": \"Gunshot\"}, {\"gender\": \"Male\", \"cause\": \"Gunshot\"}, {\"gender\": \"Male\", \"cause\": \"Gunshot\"}, {\"gender\": \"Male\", \"cause\": \"Death in custody\"}, {\"gender\": \"Male\", \"cause\": \"Gunshot\"}, {\"gender\": \"Male\", \"cause\": \"Gunshot\"}, {\"gender\": \"Male\", \"cause\": \"Gunshot\"}, {\"gender\": \"Male\", \"cause\": \"Gunshot\"}, {\"gender\": \"Male\", \"cause\": \"Gunshot\"}, {\"gender\": \"Male\", \"cause\": \"Gunshot\"}, {\"gender\": \"Male\", \"cause\": \"Gunshot\"}, {\"gender\": \"Male\", \"cause\": \"Gunshot\"}, {\"gender\": \"Male\", \"cause\": \"Gunshot\"}, {\"gender\": \"Female\", \"cause\": \"Gunshot\"}, {\"gender\": \"Male\", \"cause\": \"Death in custody\"}, {\"gender\": \"Male\", \"cause\": \"Gunshot\"}, {\"gender\": \"Female\", \"cause\": \"Gunshot\"}, {\"gender\": \"Male\", \"cause\": \"Gunshot\"}, {\"gender\": \"Male\", \"cause\": \"Gunshot\"}, {\"gender\": \"Male\", \"cause\": \"Gunshot\"}, {\"gender\": \"Male\", \"cause\": \"Gunshot\"}, {\"gender\": \"Male\", \"cause\": \"Gunshot\"}, {\"gender\": \"Male\", \"cause\": \"Gunshot\"}, {\"gender\": \"Male\", \"cause\": \"Gunshot\"}, {\"gender\": \"Male\", \"cause\": \"Gunshot\"}, {\"gender\": \"Male\", \"cause\": \"Gunshot\"}, {\"gender\": \"Male\", \"cause\": \"Gunshot\"}, {\"gender\": \"Male\", \"cause\": \"Gunshot\"}, {\"gender\": \"Male\", \"cause\": \"Gunshot\"}, {\"gender\": \"Female\", \"cause\": \"Gunshot\"}, {\"gender\": \"Male\", \"cause\": \"Gunshot\"}, {\"gender\": \"Male\", \"cause\": \"Gunshot\"}, {\"gender\": \"Male\", \"cause\": \"Death in custody\"}, {\"gender\": \"Male\", \"cause\": \"Gunshot\"}, {\"gender\": \"Male\", \"cause\": \"Gunshot\"}, {\"gender\": \"Male\", \"cause\": \"Gunshot\"}, {\"gender\": \"Male\", \"cause\": \"Gunshot\"}, {\"gender\": \"Male\", \"cause\": \"Gunshot\"}, {\"gender\": \"Male\", \"cause\": \"Gunshot\"}, {\"gender\": \"Male\", \"cause\": \"Gunshot\"}, {\"gender\": \"Male\", \"cause\": \"Death in custody\"}, {\"gender\": \"Male\", \"cause\": \"Struck by vehicle\"}, {\"gender\": \"Male\", \"cause\": \"Gunshot\"}, {\"gender\": \"Male\", \"cause\": \"Gunshot\"}, {\"gender\": \"Male\", \"cause\": \"Gunshot\"}, {\"gender\": \"Male\", \"cause\": \"Gunshot\"}, {\"gender\": \"Male\", \"cause\": \"Gunshot\"}, {\"gender\": \"Male\", \"cause\": \"Gunshot\"}, {\"gender\": \"Male\", \"cause\": \"Gunshot\"}, {\"gender\": \"Male\", \"cause\": \"Gunshot\"}, {\"gender\": \"Male\", \"cause\": \"Gunshot\"}, {\"gender\": \"Male\", \"cause\": \"Gunshot\"}, {\"gender\": \"Male\", \"cause\": \"Gunshot\"}, {\"gender\": \"Male\", \"cause\": \"Gunshot\"}, {\"gender\": \"Male\", \"cause\": \"Unknown\"}, {\"gender\": \"Male\", \"cause\": \"Gunshot\"}, {\"gender\": \"Male\", \"cause\": \"Death in custody\"}, {\"gender\": \"Male\", \"cause\": \"Gunshot\"}, {\"gender\": \"Male\", \"cause\": \"Gunshot\"}, {\"gender\": \"Male\", \"cause\": \"Gunshot\"}, {\"gender\": \"Male\", \"cause\": \"Gunshot\"}, {\"gender\": \"Male\", \"cause\": \"Gunshot\"}, {\"gender\": \"Female\", \"cause\": \"Gunshot\"}, {\"gender\": \"Male\", \"cause\": \"Gunshot\"}, {\"gender\": \"Male\", \"cause\": \"Gunshot\"}, {\"gender\": \"Male\", \"cause\": \"Gunshot\"}, {\"gender\": \"Male\", \"cause\": \"Taser\"}, {\"gender\": \"Male\", \"cause\": \"Gunshot\"}, {\"gender\": \"Male\", \"cause\": \"Gunshot\"}, {\"gender\": \"Male\", \"cause\": \"Struck by vehicle\"}, {\"gender\": \"Male\", \"cause\": \"Taser\"}, {\"gender\": \"Male\", \"cause\": \"Gunshot\"}, {\"gender\": \"Male\", \"cause\": \"Gunshot\"}, {\"gender\": \"Male\", \"cause\": \"Gunshot\"}, {\"gender\": \"Male\", \"cause\": \"Gunshot\"}, {\"gender\": \"Male\", \"cause\": \"Gunshot\"}, {\"gender\": \"Male\", \"cause\": \"Gunshot\"}, {\"gender\": \"Male\", \"cause\": \"Gunshot\"}, {\"gender\": \"Female\", \"cause\": \"Gunshot\"}, {\"gender\": \"Male\", \"cause\": \"Death in custody\"}, {\"gender\": \"Male\", \"cause\": \"Gunshot\"}, {\"gender\": \"Male\", \"cause\": \"Gunshot\"}, {\"gender\": \"Female\", \"cause\": \"Taser\"}, {\"gender\": \"Male\", \"cause\": \"Gunshot\"}, {\"gender\": \"Male\", \"cause\": \"Gunshot\"}, {\"gender\": \"Male\", \"cause\": \"Gunshot\"}, {\"gender\": \"Male\", \"cause\": \"Gunshot\"}, {\"gender\": \"Male\", \"cause\": \"Gunshot\"}, {\"gender\": \"Male\", \"cause\": \"Gunshot\"}, {\"gender\": \"Male\", \"cause\": \"Gunshot\"}, {\"gender\": \"Female\", \"cause\": \"Gunshot\"}, {\"gender\": \"Male\", \"cause\": \"Taser\"}, {\"gender\": \"Female\", \"cause\": \"Struck by vehicle\"}, {\"gender\": \"Male\", \"cause\": \"Gunshot\"}, {\"gender\": \"Male\", \"cause\": \"Gunshot\"}, {\"gender\": \"Male\", \"cause\": \"Gunshot\"}, {\"gender\": \"Male\", \"cause\": \"Gunshot\"}, {\"gender\": \"Male\", \"cause\": \"Gunshot\"}, {\"gender\": \"Male\", \"cause\": \"Gunshot\"}, {\"gender\": \"Male\", \"cause\": \"Gunshot\"}, {\"gender\": \"Male\", \"cause\": \"Gunshot\"}, {\"gender\": \"Male\", \"cause\": \"Gunshot\"}, {\"gender\": \"Male\", \"cause\": \"Gunshot\"}, {\"gender\": \"Male\", \"cause\": \"Gunshot\"}, {\"gender\": \"Male\", \"cause\": \"Gunshot\"}, {\"gender\": \"Male\", \"cause\": \"Death in custody\"}, {\"gender\": \"Male\", \"cause\": \"Gunshot\"}, {\"gender\": \"Male\", \"cause\": \"Gunshot\"}, {\"gender\": \"Male\", \"cause\": \"Taser\"}, {\"gender\": \"Male\", \"cause\": \"Gunshot\"}, {\"gender\": \"Male\", \"cause\": \"Gunshot\"}, {\"gender\": \"Male\", \"cause\": \"Gunshot\"}, {\"gender\": \"Male\", \"cause\": \"Gunshot\"}, {\"gender\": \"Male\", \"cause\": \"Gunshot\"}, {\"gender\": \"Male\", \"cause\": \"Taser\"}, {\"gender\": \"Male\", \"cause\": \"Gunshot\"}, {\"gender\": \"Male\", \"cause\": \"Gunshot\"}, {\"gender\": \"Male\", \"cause\": \"Gunshot\"}, {\"gender\": \"Male\", \"cause\": \"Gunshot\"}, {\"gender\": \"Male\", \"cause\": \"Gunshot\"}, {\"gender\": \"Male\", \"cause\": \"Gunshot\"}, {\"gender\": \"Male\", \"cause\": \"Gunshot\"}, {\"gender\": \"Male\", \"cause\": \"Gunshot\"}, {\"gender\": \"Male\", \"cause\": \"Gunshot\"}, {\"gender\": \"Male\", \"cause\": \"Gunshot\"}, {\"gender\": \"Male\", \"cause\": \"Gunshot\"}, {\"gender\": \"Male\", \"cause\": \"Gunshot\"}, {\"gender\": \"Male\", \"cause\": \"Gunshot\"}, {\"gender\": \"Male\", \"cause\": \"Gunshot\"}, {\"gender\": \"Male\", \"cause\": \"Gunshot\"}, {\"gender\": \"Male\", \"cause\": \"Unknown\"}, {\"gender\": \"Male\", \"cause\": \"Gunshot\"}, {\"gender\": \"Male\", \"cause\": \"Gunshot\"}, {\"gender\": \"Male\", \"cause\": \"Gunshot\"}, {\"gender\": \"Male\", \"cause\": \"Gunshot\"}, {\"gender\": \"Male\", \"cause\": \"Gunshot\"}, {\"gender\": \"Male\", \"cause\": \"Gunshot\"}, {\"gender\": \"Male\", \"cause\": \"Gunshot\"}, {\"gender\": \"Male\", \"cause\": \"Gunshot\"}, {\"gender\": \"Male\", \"cause\": \"Death in custody\"}, {\"gender\": \"Male\", \"cause\": \"Gunshot\"}, {\"gender\": \"Male\", \"cause\": \"Gunshot\"}, {\"gender\": \"Male\", \"cause\": \"Gunshot\"}, {\"gender\": \"Male\", \"cause\": \"Gunshot\"}, {\"gender\": \"Male\", \"cause\": \"Gunshot\"}, {\"gender\": \"Male\", \"cause\": \"Gunshot\"}, {\"gender\": \"Male\", \"cause\": \"Gunshot\"}, {\"gender\": \"Male\", \"cause\": \"Gunshot\"}, {\"gender\": \"Male\", \"cause\": \"Gunshot\"}, {\"gender\": \"Male\", \"cause\": \"Gunshot\"}, {\"gender\": \"Male\", \"cause\": \"Gunshot\"}, {\"gender\": \"Male\", \"cause\": \"Gunshot\"}, {\"gender\": \"Male\", \"cause\": \"Gunshot\"}, {\"gender\": \"Male\", \"cause\": \"Gunshot\"}, {\"gender\": \"Male\", \"cause\": \"Gunshot\"}, {\"gender\": \"Male\", \"cause\": \"Taser\"}, {\"gender\": \"Male\", \"cause\": \"Gunshot\"}, {\"gender\": \"Male\", \"cause\": \"Taser\"}, {\"gender\": \"Male\", \"cause\": \"Gunshot\"}, {\"gender\": \"Male\", \"cause\": \"Gunshot\"}, {\"gender\": \"Female\", \"cause\": \"Gunshot\"}, {\"gender\": \"Male\", \"cause\": \"Gunshot\"}, {\"gender\": \"Male\", \"cause\": \"Taser\"}, {\"gender\": \"Male\", \"cause\": \"Gunshot\"}, {\"gender\": \"Male\", \"cause\": \"Gunshot\"}, {\"gender\": \"Male\", \"cause\": \"Gunshot\"}, {\"gender\": \"Male\", \"cause\": \"Gunshot\"}, {\"gender\": \"Male\", \"cause\": \"Taser\"}, {\"gender\": \"Male\", \"cause\": \"Gunshot\"}, {\"gender\": \"Male\", \"cause\": \"Taser\"}, {\"gender\": \"Male\", \"cause\": \"Gunshot\"}, {\"gender\": \"Male\", \"cause\": \"Gunshot\"}, {\"gender\": \"Male\", \"cause\": \"Gunshot\"}, {\"gender\": \"Male\", \"cause\": \"Gunshot\"}, {\"gender\": \"Male\", \"cause\": \"Gunshot\"}, {\"gender\": \"Male\", \"cause\": \"Gunshot\"}, {\"gender\": \"Male\", \"cause\": \"Gunshot\"}, {\"gender\": \"Female\", \"cause\": \"Gunshot\"}, {\"gender\": \"Male\", \"cause\": \"Gunshot\"}, {\"gender\": \"Male\", \"cause\": \"Gunshot\"}, {\"gender\": \"Male\", \"cause\": \"Gunshot\"}, {\"gender\": \"Male\", \"cause\": \"Gunshot\"}, {\"gender\": \"Male\", \"cause\": \"Gunshot\"}, {\"gender\": \"Male\", \"cause\": \"Gunshot\"}, {\"gender\": \"Male\", \"cause\": \"Taser\"}, {\"gender\": \"Male\", \"cause\": \"Gunshot\"}, {\"gender\": \"Male\", \"cause\": \"Gunshot\"}, {\"gender\": \"Male\", \"cause\": \"Gunshot\"}, {\"gender\": \"Male\", \"cause\": \"Gunshot\"}, {\"gender\": \"Male\", \"cause\": \"Gunshot\"}, {\"gender\": \"Male\", \"cause\": \"Gunshot\"}, {\"gender\": \"Female\", \"cause\": \"Gunshot\"}, {\"gender\": \"Male\", \"cause\": \"Gunshot\"}, {\"gender\": \"Male\", \"cause\": \"Gunshot\"}, {\"gender\": \"Male\", \"cause\": \"Gunshot\"}, {\"gender\": \"Male\", \"cause\": \"Gunshot\"}, {\"gender\": \"Male\", \"cause\": \"Gunshot\"}, {\"gender\": \"Male\", \"cause\": \"Gunshot\"}, {\"gender\": \"Male\", \"cause\": \"Gunshot\"}, {\"gender\": \"Male\", \"cause\": \"Taser\"}, {\"gender\": \"Male\", \"cause\": \"Gunshot\"}, {\"gender\": \"Male\", \"cause\": \"Gunshot\"}, {\"gender\": \"Male\", \"cause\": \"Gunshot\"}, {\"gender\": \"Male\", \"cause\": \"Taser\"}, {\"gender\": \"Male\", \"cause\": \"Gunshot\"}, {\"gender\": \"Female\", \"cause\": \"Gunshot\"}, {\"gender\": \"Male\", \"cause\": \"Gunshot\"}]}}, {\"mode\": \"vega-lite\"});\n",
       "</script>"
      ],
      "text/plain": [
       "alt.Chart(...)"
      ]
     },
     "execution_count": 229,
     "metadata": {},
     "output_type": "execute_result"
    }
   ],
   "source": [
    "ChartCause = alt.Chart(source).mark_bar().encode(\n",
    "    x=alt.X('cause', \n",
    "            sort= '-y',\n",
    "            #für die Achseneinstellung benutzen wir axis\n",
    "            axis=alt.Axis(title=\"Cause of death\", # title of x axis: Cause of death\n",
    "                          labelAngle=0)), # angle of x axis text: 0\n",
    "      y=alt.Y('count(cause)'),\n",
    "      tooltip=['count(cause)'] \n",
    "\n",
    ").interactive(\n",
    "\n",
    ").properties( \n",
    "    title= 'Cause of death',\n",
    "    width= 500,\n",
    "    height= 400\n",
    ")\n",
    "ChartCause"
   ]
  },
  {
   "cell_type": "markdown",
   "metadata": {},
   "source": [
    "# Visualization 2: Pie chart analysing race/ethnicity of deceased"
   ]
  },
  {
   "cell_type": "markdown",
   "metadata": {},
   "source": [
    "Next, I want to analyse the distrubution of race/ethincity of the deceased people of the data set to find out why race/ethinicity is most likely to be targeted."
   ]
  },
  {
   "cell_type": "code",
   "execution_count": 233,
   "metadata": {},
   "outputs": [
    {
     "data": {
      "text/html": [
       "<div>\n",
       "<style scoped>\n",
       "    .dataframe tbody tr th:only-of-type {\n",
       "        vertical-align: middle;\n",
       "    }\n",
       "\n",
       "    .dataframe tbody tr th {\n",
       "        vertical-align: top;\n",
       "    }\n",
       "\n",
       "    .dataframe thead th {\n",
       "        text-align: right;\n",
       "    }\n",
       "</style>\n",
       "<table border=\"1\" class=\"dataframe\">\n",
       "  <thead>\n",
       "    <tr style=\"text-align: right;\">\n",
       "      <th></th>\n",
       "      <th>race</th>\n",
       "      <th>value</th>\n",
       "    </tr>\n",
       "  </thead>\n",
       "  <tbody>\n",
       "    <tr>\n",
       "      <th>0</th>\n",
       "      <td>White</td>\n",
       "      <td>236</td>\n",
       "    </tr>\n",
       "    <tr>\n",
       "      <th>1</th>\n",
       "      <td>Black</td>\n",
       "      <td>135</td>\n",
       "    </tr>\n",
       "    <tr>\n",
       "      <th>2</th>\n",
       "      <td>Hispanic/Latino</td>\n",
       "      <td>67</td>\n",
       "    </tr>\n",
       "    <tr>\n",
       "      <th>3</th>\n",
       "      <td>Unknown</td>\n",
       "      <td>15</td>\n",
       "    </tr>\n",
       "    <tr>\n",
       "      <th>4</th>\n",
       "      <td>Asian/Pacific Islander</td>\n",
       "      <td>10</td>\n",
       "    </tr>\n",
       "    <tr>\n",
       "      <th>5</th>\n",
       "      <td>Native American</td>\n",
       "      <td>4</td>\n",
       "    </tr>\n",
       "  </tbody>\n",
       "</table>\n",
       "</div>"
      ],
      "text/plain": [
       "                     race  value\n",
       "0                   White    236\n",
       "1                   Black    135\n",
       "2         Hispanic/Latino     67\n",
       "3                 Unknown     15\n",
       "4  Asian/Pacific Islander     10\n",
       "5         Native American      4"
      ]
     },
     "execution_count": 233,
     "metadata": {},
     "output_type": "execute_result"
    }
   ],
   "source": [
    "df.raceethnicity = df.raceethnicity.astype(\"category\")\n",
    "\n",
    "# create data for pie chart\n",
    "source = pd.DataFrame(df.raceethnicity.value_counts())\n",
    "\n",
    "# set index to column\n",
    "source = source.reset_index()\n",
    "\n",
    "# rename columns\n",
    "source.rename(columns={\"index\": \"race\", \"raceethnicity\": \"value\"}, inplace=True)\n",
    "\n",
    "source"
   ]
  },
  {
   "cell_type": "code",
   "execution_count": 234,
   "metadata": {},
   "outputs": [
    {
     "data": {
      "text/html": [
       "\n",
       "<div id=\"altair-viz-1584ec8884ec4bb2b8fb6758354a51b8\"></div>\n",
       "<script type=\"text/javascript\">\n",
       "  var VEGA_DEBUG = (typeof VEGA_DEBUG == \"undefined\") ? {} : VEGA_DEBUG;\n",
       "  (function(spec, embedOpt){\n",
       "    let outputDiv = document.currentScript.previousElementSibling;\n",
       "    if (outputDiv.id !== \"altair-viz-1584ec8884ec4bb2b8fb6758354a51b8\") {\n",
       "      outputDiv = document.getElementById(\"altair-viz-1584ec8884ec4bb2b8fb6758354a51b8\");\n",
       "    }\n",
       "    const paths = {\n",
       "      \"vega\": \"https://cdn.jsdelivr.net/npm//vega@5?noext\",\n",
       "      \"vega-lib\": \"https://cdn.jsdelivr.net/npm//vega-lib?noext\",\n",
       "      \"vega-lite\": \"https://cdn.jsdelivr.net/npm//vega-lite@4.17.0?noext\",\n",
       "      \"vega-embed\": \"https://cdn.jsdelivr.net/npm//vega-embed@6?noext\",\n",
       "    };\n",
       "\n",
       "    function maybeLoadScript(lib, version) {\n",
       "      var key = `${lib.replace(\"-\", \"\")}_version`;\n",
       "      return (VEGA_DEBUG[key] == version) ?\n",
       "        Promise.resolve(paths[lib]) :\n",
       "        new Promise(function(resolve, reject) {\n",
       "          var s = document.createElement('script');\n",
       "          document.getElementsByTagName(\"head\")[0].appendChild(s);\n",
       "          s.async = true;\n",
       "          s.onload = () => {\n",
       "            VEGA_DEBUG[key] = version;\n",
       "            return resolve(paths[lib]);\n",
       "          };\n",
       "          s.onerror = () => reject(`Error loading script: ${paths[lib]}`);\n",
       "          s.src = paths[lib];\n",
       "        });\n",
       "    }\n",
       "\n",
       "    function showError(err) {\n",
       "      outputDiv.innerHTML = `<div class=\"error\" style=\"color:red;\">${err}</div>`;\n",
       "      throw err;\n",
       "    }\n",
       "\n",
       "    function displayChart(vegaEmbed) {\n",
       "      vegaEmbed(outputDiv, spec, embedOpt)\n",
       "        .catch(err => showError(`Javascript Error: ${err.message}<br>This usually means there's a typo in your chart specification. See the javascript console for the full traceback.`));\n",
       "    }\n",
       "\n",
       "    if(typeof define === \"function\" && define.amd) {\n",
       "      requirejs.config({paths});\n",
       "      require([\"vega-embed\"], displayChart, err => showError(`Error loading script: ${err.message}`));\n",
       "    } else {\n",
       "      maybeLoadScript(\"vega\", \"5\")\n",
       "        .then(() => maybeLoadScript(\"vega-lite\", \"4.17.0\"))\n",
       "        .then(() => maybeLoadScript(\"vega-embed\", \"6\"))\n",
       "        .catch(showError)\n",
       "        .then(() => displayChart(vegaEmbed));\n",
       "    }\n",
       "  })({\"config\": {\"view\": {\"continuousWidth\": 400, \"continuousHeight\": 300}}, \"data\": {\"name\": \"data-5bd594602f9980a5dbb1b5e2b31673dc\"}, \"mark\": {\"type\": \"arc\", \"outerRadius\": 125}, \"encoding\": {\"color\": {\"field\": \"race\", \"type\": \"nominal\"}, \"theta\": {\"field\": \"value\", \"type\": \"quantitative\"}}, \"$schema\": \"https://vega.github.io/schema/vega-lite/v4.17.0.json\", \"datasets\": {\"data-5bd594602f9980a5dbb1b5e2b31673dc\": [{\"race\": \"White\", \"value\": 236}, {\"race\": \"Black\", \"value\": 135}, {\"race\": \"Hispanic/Latino\", \"value\": 67}, {\"race\": \"Unknown\", \"value\": 15}, {\"race\": \"Asian/Pacific Islander\", \"value\": 10}, {\"race\": \"Native American\", \"value\": 4}]}}, {\"mode\": \"vega-lite\"});\n",
       "</script>"
      ],
      "text/plain": [
       "alt.Chart(...)"
      ]
     },
     "execution_count": 234,
     "metadata": {},
     "output_type": "execute_result"
    }
   ],
   "source": [
    "chartRace = alt.Chart(source).mark_arc().encode(\n",
    "    theta=alt.Theta(field=\"value\", type=\"quantitative\"),\n",
    "    color=alt.Color(field=\"race\", type=\"nominal\"),\n",
    ")\n",
    "\n",
    "pie = chartRace.mark_arc(outerRadius=125)\n",
    "\n",
    "pie"
   ]
  },
  {
   "cell_type": "markdown",
   "metadata": {},
   "source": [
    "# Visualization 3: Map"
   ]
  },
  {
   "cell_type": "code",
   "execution_count": 214,
   "metadata": {},
   "outputs": [],
   "source": [
    "df.state = df.state.astype(\"category\")"
   ]
  },
  {
   "cell_type": "markdown",
   "metadata": {},
   "source": [
    "# Visualization 4: Year of deseased's death"
   ]
  }
 ],
 "metadata": {
  "kernelspec": {
   "display_name": "Python 3",
   "language": "python",
   "name": "python3"
  },
  "language_info": {
   "codemirror_mode": {
    "name": "ipython",
    "version": 3
   },
   "file_extension": ".py",
   "mimetype": "text/x-python",
   "name": "python",
   "nbconvert_exporter": "python",
   "pygments_lexer": "ipython3",
   "version": "3.9.13"
  },
  "orig_nbformat": 4,
  "vscode": {
   "interpreter": {
    "hash": "6ecefd7b8bfcf57efb5cc130173e6ed36c52dd59eb123faecd1d895ae54b15db"
   }
  }
 },
 "nbformat": 4,
 "nbformat_minor": 2
}
