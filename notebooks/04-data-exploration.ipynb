{
 "cells": [
  {
   "cell_type": "markdown",
   "metadata": {},
   "source": [
    "# Data exploration \n",
    "\n",
    "---\n",
    "\n",
    "Group name: O\n",
    "\n",
    "---\n"
   ]
  },
  {
   "cell_type": "markdown",
   "metadata": {},
   "source": [
    "## Introduction\n",
    "\n",
    "*This section includes a short description of the data* "
   ]
  },
  {
   "cell_type": "markdown",
   "metadata": {},
   "source": [
    "## Setup"
   ]
  },
  {
   "cell_type": "code",
   "execution_count": 1,
   "metadata": {},
   "outputs": [
    {
     "data": {
      "text/plain": [
       "DataTransformerRegistry.enable('default')"
      ]
     },
     "execution_count": 1,
     "metadata": {},
     "output_type": "execute_result"
    }
   ],
   "source": [
    "import pandas as pd\n",
    "import altair as alt\n",
    "import warnings\n",
    "warnings.simplefilter(action='ignore', category=FutureWarning)\n",
    "\n",
    "alt.data_transformers.disable_max_rows()\n"
   ]
  },
  {
   "cell_type": "markdown",
   "metadata": {},
   "source": [
    "## Data"
   ]
  },
  {
   "cell_type": "markdown",
   "metadata": {},
   "source": [
    "## Import data"
   ]
  },
  {
   "cell_type": "markdown",
   "metadata": {},
   "source": []
  },
  {
   "cell_type": "code",
   "execution_count": 2,
   "metadata": {},
   "outputs": [],
   "source": [
    "DATA = \"../data/external/grad-student.csv\""
   ]
  },
  {
   "cell_type": "markdown",
   "metadata": {},
   "source": [
    "### Data structure"
   ]
  },
  {
   "cell_type": "code",
   "execution_count": 5,
   "metadata": {},
   "outputs": [
    {
     "ename": "FileNotFoundError",
     "evalue": "[Errno 2] No such file or directory: '../data/grad-student.csv'",
     "output_type": "error",
     "traceback": [
      "\u001b[1;31m---------------------------------------------------------------------------\u001b[0m",
      "\u001b[1;31mFileNotFoundError\u001b[0m                         Traceback (most recent call last)",
      "Cell \u001b[1;32mIn [5], line 1\u001b[0m\n\u001b[1;32m----> 1\u001b[0m df \u001b[39m=\u001b[39m pd\u001b[39m.\u001b[39;49mread_csv(DATA)\n\u001b[0;32m      2\u001b[0m \u001b[39mprint\u001b[39m(df)\n",
      "File \u001b[1;32mc:\\Users\\eciiy\\anaconda3\\envs\\webscraping\\lib\\site-packages\\pandas\\util\\_decorators.py:211\u001b[0m, in \u001b[0;36mdeprecate_kwarg.<locals>._deprecate_kwarg.<locals>.wrapper\u001b[1;34m(*args, **kwargs)\u001b[0m\n\u001b[0;32m    209\u001b[0m     \u001b[39melse\u001b[39;00m:\n\u001b[0;32m    210\u001b[0m         kwargs[new_arg_name] \u001b[39m=\u001b[39m new_arg_value\n\u001b[1;32m--> 211\u001b[0m \u001b[39mreturn\u001b[39;00m func(\u001b[39m*\u001b[39margs, \u001b[39m*\u001b[39m\u001b[39m*\u001b[39mkwargs)\n",
      "File \u001b[1;32mc:\\Users\\eciiy\\anaconda3\\envs\\webscraping\\lib\\site-packages\\pandas\\util\\_decorators.py:317\u001b[0m, in \u001b[0;36mdeprecate_nonkeyword_arguments.<locals>.decorate.<locals>.wrapper\u001b[1;34m(*args, **kwargs)\u001b[0m\n\u001b[0;32m    311\u001b[0m \u001b[39mif\u001b[39;00m \u001b[39mlen\u001b[39m(args) \u001b[39m>\u001b[39m num_allow_args:\n\u001b[0;32m    312\u001b[0m     warnings\u001b[39m.\u001b[39mwarn(\n\u001b[0;32m    313\u001b[0m         msg\u001b[39m.\u001b[39mformat(arguments\u001b[39m=\u001b[39marguments),\n\u001b[0;32m    314\u001b[0m         \u001b[39mFutureWarning\u001b[39;00m,\n\u001b[0;32m    315\u001b[0m         stacklevel\u001b[39m=\u001b[39mfind_stack_level(inspect\u001b[39m.\u001b[39mcurrentframe()),\n\u001b[0;32m    316\u001b[0m     )\n\u001b[1;32m--> 317\u001b[0m \u001b[39mreturn\u001b[39;00m func(\u001b[39m*\u001b[39margs, \u001b[39m*\u001b[39m\u001b[39m*\u001b[39mkwargs)\n",
      "File \u001b[1;32mc:\\Users\\eciiy\\anaconda3\\envs\\webscraping\\lib\\site-packages\\pandas\\io\\parsers\\readers.py:950\u001b[0m, in \u001b[0;36mread_csv\u001b[1;34m(filepath_or_buffer, sep, delimiter, header, names, index_col, usecols, squeeze, prefix, mangle_dupe_cols, dtype, engine, converters, true_values, false_values, skipinitialspace, skiprows, skipfooter, nrows, na_values, keep_default_na, na_filter, verbose, skip_blank_lines, parse_dates, infer_datetime_format, keep_date_col, date_parser, dayfirst, cache_dates, iterator, chunksize, compression, thousands, decimal, lineterminator, quotechar, quoting, doublequote, escapechar, comment, encoding, encoding_errors, dialect, error_bad_lines, warn_bad_lines, on_bad_lines, delim_whitespace, low_memory, memory_map, float_precision, storage_options)\u001b[0m\n\u001b[0;32m    935\u001b[0m kwds_defaults \u001b[39m=\u001b[39m _refine_defaults_read(\n\u001b[0;32m    936\u001b[0m     dialect,\n\u001b[0;32m    937\u001b[0m     delimiter,\n\u001b[1;32m   (...)\u001b[0m\n\u001b[0;32m    946\u001b[0m     defaults\u001b[39m=\u001b[39m{\u001b[39m\"\u001b[39m\u001b[39mdelimiter\u001b[39m\u001b[39m\"\u001b[39m: \u001b[39m\"\u001b[39m\u001b[39m,\u001b[39m\u001b[39m\"\u001b[39m},\n\u001b[0;32m    947\u001b[0m )\n\u001b[0;32m    948\u001b[0m kwds\u001b[39m.\u001b[39mupdate(kwds_defaults)\n\u001b[1;32m--> 950\u001b[0m \u001b[39mreturn\u001b[39;00m _read(filepath_or_buffer, kwds)\n",
      "File \u001b[1;32mc:\\Users\\eciiy\\anaconda3\\envs\\webscraping\\lib\\site-packages\\pandas\\io\\parsers\\readers.py:605\u001b[0m, in \u001b[0;36m_read\u001b[1;34m(filepath_or_buffer, kwds)\u001b[0m\n\u001b[0;32m    602\u001b[0m _validate_names(kwds\u001b[39m.\u001b[39mget(\u001b[39m\"\u001b[39m\u001b[39mnames\u001b[39m\u001b[39m\"\u001b[39m, \u001b[39mNone\u001b[39;00m))\n\u001b[0;32m    604\u001b[0m \u001b[39m# Create the parser.\u001b[39;00m\n\u001b[1;32m--> 605\u001b[0m parser \u001b[39m=\u001b[39m TextFileReader(filepath_or_buffer, \u001b[39m*\u001b[39m\u001b[39m*\u001b[39mkwds)\n\u001b[0;32m    607\u001b[0m \u001b[39mif\u001b[39;00m chunksize \u001b[39mor\u001b[39;00m iterator:\n\u001b[0;32m    608\u001b[0m     \u001b[39mreturn\u001b[39;00m parser\n",
      "File \u001b[1;32mc:\\Users\\eciiy\\anaconda3\\envs\\webscraping\\lib\\site-packages\\pandas\\io\\parsers\\readers.py:1442\u001b[0m, in \u001b[0;36mTextFileReader.__init__\u001b[1;34m(self, f, engine, **kwds)\u001b[0m\n\u001b[0;32m   1439\u001b[0m     \u001b[39mself\u001b[39m\u001b[39m.\u001b[39moptions[\u001b[39m\"\u001b[39m\u001b[39mhas_index_names\u001b[39m\u001b[39m\"\u001b[39m] \u001b[39m=\u001b[39m kwds[\u001b[39m\"\u001b[39m\u001b[39mhas_index_names\u001b[39m\u001b[39m\"\u001b[39m]\n\u001b[0;32m   1441\u001b[0m \u001b[39mself\u001b[39m\u001b[39m.\u001b[39mhandles: IOHandles \u001b[39m|\u001b[39m \u001b[39mNone\u001b[39;00m \u001b[39m=\u001b[39m \u001b[39mNone\u001b[39;00m\n\u001b[1;32m-> 1442\u001b[0m \u001b[39mself\u001b[39m\u001b[39m.\u001b[39m_engine \u001b[39m=\u001b[39m \u001b[39mself\u001b[39;49m\u001b[39m.\u001b[39;49m_make_engine(f, \u001b[39mself\u001b[39;49m\u001b[39m.\u001b[39;49mengine)\n",
      "File \u001b[1;32mc:\\Users\\eciiy\\anaconda3\\envs\\webscraping\\lib\\site-packages\\pandas\\io\\parsers\\readers.py:1729\u001b[0m, in \u001b[0;36mTextFileReader._make_engine\u001b[1;34m(self, f, engine)\u001b[0m\n\u001b[0;32m   1727\u001b[0m     is_text \u001b[39m=\u001b[39m \u001b[39mFalse\u001b[39;00m\n\u001b[0;32m   1728\u001b[0m     mode \u001b[39m=\u001b[39m \u001b[39m\"\u001b[39m\u001b[39mrb\u001b[39m\u001b[39m\"\u001b[39m\n\u001b[1;32m-> 1729\u001b[0m \u001b[39mself\u001b[39m\u001b[39m.\u001b[39mhandles \u001b[39m=\u001b[39m get_handle(\n\u001b[0;32m   1730\u001b[0m     f,\n\u001b[0;32m   1731\u001b[0m     mode,\n\u001b[0;32m   1732\u001b[0m     encoding\u001b[39m=\u001b[39;49m\u001b[39mself\u001b[39;49m\u001b[39m.\u001b[39;49moptions\u001b[39m.\u001b[39;49mget(\u001b[39m\"\u001b[39;49m\u001b[39mencoding\u001b[39;49m\u001b[39m\"\u001b[39;49m, \u001b[39mNone\u001b[39;49;00m),\n\u001b[0;32m   1733\u001b[0m     compression\u001b[39m=\u001b[39;49m\u001b[39mself\u001b[39;49m\u001b[39m.\u001b[39;49moptions\u001b[39m.\u001b[39;49mget(\u001b[39m\"\u001b[39;49m\u001b[39mcompression\u001b[39;49m\u001b[39m\"\u001b[39;49m, \u001b[39mNone\u001b[39;49;00m),\n\u001b[0;32m   1734\u001b[0m     memory_map\u001b[39m=\u001b[39;49m\u001b[39mself\u001b[39;49m\u001b[39m.\u001b[39;49moptions\u001b[39m.\u001b[39;49mget(\u001b[39m\"\u001b[39;49m\u001b[39mmemory_map\u001b[39;49m\u001b[39m\"\u001b[39;49m, \u001b[39mFalse\u001b[39;49;00m),\n\u001b[0;32m   1735\u001b[0m     is_text\u001b[39m=\u001b[39;49mis_text,\n\u001b[0;32m   1736\u001b[0m     errors\u001b[39m=\u001b[39;49m\u001b[39mself\u001b[39;49m\u001b[39m.\u001b[39;49moptions\u001b[39m.\u001b[39;49mget(\u001b[39m\"\u001b[39;49m\u001b[39mencoding_errors\u001b[39;49m\u001b[39m\"\u001b[39;49m, \u001b[39m\"\u001b[39;49m\u001b[39mstrict\u001b[39;49m\u001b[39m\"\u001b[39;49m),\n\u001b[0;32m   1737\u001b[0m     storage_options\u001b[39m=\u001b[39;49m\u001b[39mself\u001b[39;49m\u001b[39m.\u001b[39;49moptions\u001b[39m.\u001b[39;49mget(\u001b[39m\"\u001b[39;49m\u001b[39mstorage_options\u001b[39;49m\u001b[39m\"\u001b[39;49m, \u001b[39mNone\u001b[39;49;00m),\n\u001b[0;32m   1738\u001b[0m )\n\u001b[0;32m   1739\u001b[0m \u001b[39massert\u001b[39;00m \u001b[39mself\u001b[39m\u001b[39m.\u001b[39mhandles \u001b[39mis\u001b[39;00m \u001b[39mnot\u001b[39;00m \u001b[39mNone\u001b[39;00m\n\u001b[0;32m   1740\u001b[0m f \u001b[39m=\u001b[39m \u001b[39mself\u001b[39m\u001b[39m.\u001b[39mhandles\u001b[39m.\u001b[39mhandle\n",
      "File \u001b[1;32mc:\\Users\\eciiy\\anaconda3\\envs\\webscraping\\lib\\site-packages\\pandas\\io\\common.py:857\u001b[0m, in \u001b[0;36mget_handle\u001b[1;34m(path_or_buf, mode, encoding, compression, memory_map, is_text, errors, storage_options)\u001b[0m\n\u001b[0;32m    852\u001b[0m \u001b[39melif\u001b[39;00m \u001b[39misinstance\u001b[39m(handle, \u001b[39mstr\u001b[39m):\n\u001b[0;32m    853\u001b[0m     \u001b[39m# Check whether the filename is to be opened in binary mode.\u001b[39;00m\n\u001b[0;32m    854\u001b[0m     \u001b[39m# Binary mode does not support 'encoding' and 'newline'.\u001b[39;00m\n\u001b[0;32m    855\u001b[0m     \u001b[39mif\u001b[39;00m ioargs\u001b[39m.\u001b[39mencoding \u001b[39mand\u001b[39;00m \u001b[39m\"\u001b[39m\u001b[39mb\u001b[39m\u001b[39m\"\u001b[39m \u001b[39mnot\u001b[39;00m \u001b[39min\u001b[39;00m ioargs\u001b[39m.\u001b[39mmode:\n\u001b[0;32m    856\u001b[0m         \u001b[39m# Encoding\u001b[39;00m\n\u001b[1;32m--> 857\u001b[0m         handle \u001b[39m=\u001b[39m \u001b[39mopen\u001b[39;49m(\n\u001b[0;32m    858\u001b[0m             handle,\n\u001b[0;32m    859\u001b[0m             ioargs\u001b[39m.\u001b[39;49mmode,\n\u001b[0;32m    860\u001b[0m             encoding\u001b[39m=\u001b[39;49mioargs\u001b[39m.\u001b[39;49mencoding,\n\u001b[0;32m    861\u001b[0m             errors\u001b[39m=\u001b[39;49merrors,\n\u001b[0;32m    862\u001b[0m             newline\u001b[39m=\u001b[39;49m\u001b[39m\"\u001b[39;49m\u001b[39m\"\u001b[39;49m,\n\u001b[0;32m    863\u001b[0m         )\n\u001b[0;32m    864\u001b[0m     \u001b[39melse\u001b[39;00m:\n\u001b[0;32m    865\u001b[0m         \u001b[39m# Binary mode\u001b[39;00m\n\u001b[0;32m    866\u001b[0m         handle \u001b[39m=\u001b[39m \u001b[39mopen\u001b[39m(handle, ioargs\u001b[39m.\u001b[39mmode)\n",
      "\u001b[1;31mFileNotFoundError\u001b[0m: [Errno 2] No such file or directory: '../data/grad-student.csv'"
     ]
    }
   ],
   "source": [
    "df = pd.read_csv(DATA)\n",
    "print(df)\n",
    "\n",
    "\n",
    "df.info()"
   ]
  },
  {
   "cell_type": "markdown",
   "metadata": {},
   "source": [
    "### Data corrections"
   ]
  },
  {
   "cell_type": "code",
   "execution_count": 13,
   "metadata": {},
   "outputs": [],
   "source": [
    "df['score1'] = df['score1'].astype(\"category\")\n",
    "df['score2'] = df['score2'].astype(\"category\")"
   ]
  },
  {
   "cell_type": "code",
   "execution_count": 14,
   "metadata": {},
   "outputs": [
    {
     "name": "stdout",
     "output_type": "stream",
     "text": [
      "<class 'pandas.core.frame.DataFrame'>\n",
      "RangeIndex: 1230 entries, 0 to 1229\n",
      "Data columns (total 27 columns):\n",
      " #   Column          Non-Null Count  Dtype   \n",
      "---  ------          --------------  -----   \n",
      " 0   date            1230 non-null   object  \n",
      " 1   season          1230 non-null   int64   \n",
      " 2   neutral         1230 non-null   int64   \n",
      " 3   playoff         0 non-null      float64 \n",
      " 4   team1           1230 non-null   object  \n",
      " 5   team2           1230 non-null   object  \n",
      " 6   elo1_pre        1230 non-null   float64 \n",
      " 7   elo2_pre        1230 non-null   float64 \n",
      " 8   elo_prob1       1230 non-null   float64 \n",
      " 9   elo_prob2       1230 non-null   float64 \n",
      " 10  elo1_post       204 non-null    float64 \n",
      " 11  elo2_post       204 non-null    float64 \n",
      " 12  carm-elo1_pre   0 non-null      float64 \n",
      " 13  carm-elo2_pre   0 non-null      float64 \n",
      " 14  carm-elo_prob1  0 non-null      float64 \n",
      " 15  carm-elo_prob2  0 non-null      float64 \n",
      " 16  carm-elo1_post  0 non-null      float64 \n",
      " 17  carm-elo2_post  0 non-null      float64 \n",
      " 18  raptor1_pre     1230 non-null   float64 \n",
      " 19  raptor2_pre     1230 non-null   float64 \n",
      " 20  raptor_prob1    1230 non-null   float64 \n",
      " 21  raptor_prob2    1230 non-null   float64 \n",
      " 22  score1          204 non-null    category\n",
      " 23  score2          204 non-null    category\n",
      " 24  quality         1230 non-null   int64   \n",
      " 25  importance      1230 non-null   int64   \n",
      " 26  total_rating    1230 non-null   int64   \n",
      "dtypes: category(2), float64(17), int64(5), object(3)\n",
      "memory usage: 246.6+ KB\n"
     ]
    }
   ],
   "source": [
    "df.info()"
   ]
  },
  {
   "cell_type": "markdown",
   "metadata": {},
   "source": [
    "### Variable lists"
   ]
  },
  {
   "cell_type": "code",
   "execution_count": 16,
   "metadata": {},
   "outputs": [],
   "source": [
    "# make a list of variables you want to use\n",
    "var_list = ['score1']"
   ]
  },
  {
   "cell_type": "code",
   "execution_count": 22,
   "metadata": {},
   "outputs": [],
   "source": [
    "source = df[var_list]"
   ]
  },
  {
   "cell_type": "code",
   "execution_count": 23,
   "metadata": {},
   "outputs": [
    {
     "data": {
      "text/html": [
       "<div>\n",
       "<style scoped>\n",
       "    .dataframe tbody tr th:only-of-type {\n",
       "        vertical-align: middle;\n",
       "    }\n",
       "\n",
       "    .dataframe tbody tr th {\n",
       "        vertical-align: top;\n",
       "    }\n",
       "\n",
       "    .dataframe thead th {\n",
       "        text-align: right;\n",
       "    }\n",
       "</style>\n",
       "<table border=\"1\" class=\"dataframe\">\n",
       "  <thead>\n",
       "    <tr style=\"text-align: right;\">\n",
       "      <th></th>\n",
       "      <th>score1</th>\n",
       "    </tr>\n",
       "  </thead>\n",
       "  <tbody>\n",
       "    <tr>\n",
       "      <th>0</th>\n",
       "      <td>126.0</td>\n",
       "    </tr>\n",
       "    <tr>\n",
       "      <th>1</th>\n",
       "      <td>123.0</td>\n",
       "    </tr>\n",
       "    <tr>\n",
       "      <th>2</th>\n",
       "      <td>107.0</td>\n",
       "    </tr>\n",
       "    <tr>\n",
       "      <th>3</th>\n",
       "      <td>113.0</td>\n",
       "    </tr>\n",
       "    <tr>\n",
       "      <th>4</th>\n",
       "      <td>115.0</td>\n",
       "    </tr>\n",
       "    <tr>\n",
       "      <th>...</th>\n",
       "      <td>...</td>\n",
       "    </tr>\n",
       "    <tr>\n",
       "      <th>1225</th>\n",
       "      <td>NaN</td>\n",
       "    </tr>\n",
       "    <tr>\n",
       "      <th>1226</th>\n",
       "      <td>NaN</td>\n",
       "    </tr>\n",
       "    <tr>\n",
       "      <th>1227</th>\n",
       "      <td>NaN</td>\n",
       "    </tr>\n",
       "    <tr>\n",
       "      <th>1228</th>\n",
       "      <td>NaN</td>\n",
       "    </tr>\n",
       "    <tr>\n",
       "      <th>1229</th>\n",
       "      <td>NaN</td>\n",
       "    </tr>\n",
       "  </tbody>\n",
       "</table>\n",
       "<p>1230 rows × 1 columns</p>\n",
       "</div>"
      ],
      "text/plain": [
       "     score1\n",
       "0     126.0\n",
       "1     123.0\n",
       "2     107.0\n",
       "3     113.0\n",
       "4     115.0\n",
       "...     ...\n",
       "1225    NaN\n",
       "1226    NaN\n",
       "1227    NaN\n",
       "1228    NaN\n",
       "1229    NaN\n",
       "\n",
       "[1230 rows x 1 columns]"
      ]
     },
     "execution_count": 23,
     "metadata": {},
     "output_type": "execute_result"
    }
   ],
   "source": [
    "source"
   ]
  },
  {
   "cell_type": "code",
   "execution_count": 24,
   "metadata": {},
   "outputs": [],
   "source": [
    "#Ich möchte die NaN Werte entfernen\n",
    "\n",
    "SourceClean =source.dropna(how='all')"
   ]
  },
  {
   "cell_type": "code",
   "execution_count": 25,
   "metadata": {},
   "outputs": [
    {
     "data": {
      "text/html": [
       "<div>\n",
       "<style scoped>\n",
       "    .dataframe tbody tr th:only-of-type {\n",
       "        vertical-align: middle;\n",
       "    }\n",
       "\n",
       "    .dataframe tbody tr th {\n",
       "        vertical-align: top;\n",
       "    }\n",
       "\n",
       "    .dataframe thead th {\n",
       "        text-align: right;\n",
       "    }\n",
       "</style>\n",
       "<table border=\"1\" class=\"dataframe\">\n",
       "  <thead>\n",
       "    <tr style=\"text-align: right;\">\n",
       "      <th></th>\n",
       "      <th>score1</th>\n",
       "    </tr>\n",
       "  </thead>\n",
       "  <tbody>\n",
       "    <tr>\n",
       "      <th>0</th>\n",
       "      <td>126.0</td>\n",
       "    </tr>\n",
       "    <tr>\n",
       "      <th>1</th>\n",
       "      <td>123.0</td>\n",
       "    </tr>\n",
       "    <tr>\n",
       "      <th>2</th>\n",
       "      <td>107.0</td>\n",
       "    </tr>\n",
       "    <tr>\n",
       "      <th>3</th>\n",
       "      <td>113.0</td>\n",
       "    </tr>\n",
       "    <tr>\n",
       "      <th>4</th>\n",
       "      <td>115.0</td>\n",
       "    </tr>\n",
       "    <tr>\n",
       "      <th>...</th>\n",
       "      <td>...</td>\n",
       "    </tr>\n",
       "    <tr>\n",
       "      <th>199</th>\n",
       "      <td>105.0</td>\n",
       "    </tr>\n",
       "    <tr>\n",
       "      <th>200</th>\n",
       "      <td>113.0</td>\n",
       "    </tr>\n",
       "    <tr>\n",
       "      <th>201</th>\n",
       "      <td>126.0</td>\n",
       "    </tr>\n",
       "    <tr>\n",
       "      <th>202</th>\n",
       "      <td>106.0</td>\n",
       "    </tr>\n",
       "    <tr>\n",
       "      <th>203</th>\n",
       "      <td>106.0</td>\n",
       "    </tr>\n",
       "  </tbody>\n",
       "</table>\n",
       "<p>204 rows × 1 columns</p>\n",
       "</div>"
      ],
      "text/plain": [
       "    score1\n",
       "0    126.0\n",
       "1    123.0\n",
       "2    107.0\n",
       "3    113.0\n",
       "4    115.0\n",
       "..     ...\n",
       "199  105.0\n",
       "200  113.0\n",
       "201  126.0\n",
       "202  106.0\n",
       "203  106.0\n",
       "\n",
       "[204 rows x 1 columns]"
      ]
     },
     "execution_count": 25,
     "metadata": {},
     "output_type": "execute_result"
    }
   ],
   "source": [
    "SourceClean"
   ]
  },
  {
   "cell_type": "code",
   "execution_count": 34,
   "metadata": {},
   "outputs": [
    {
     "data": {
      "text/html": [
       "\n",
       "<div id=\"altair-viz-9ab8307159d0442cb44d4cf2f0a40527\"></div>\n",
       "<script type=\"text/javascript\">\n",
       "  var VEGA_DEBUG = (typeof VEGA_DEBUG == \"undefined\") ? {} : VEGA_DEBUG;\n",
       "  (function(spec, embedOpt){\n",
       "    let outputDiv = document.currentScript.previousElementSibling;\n",
       "    if (outputDiv.id !== \"altair-viz-9ab8307159d0442cb44d4cf2f0a40527\") {\n",
       "      outputDiv = document.getElementById(\"altair-viz-9ab8307159d0442cb44d4cf2f0a40527\");\n",
       "    }\n",
       "    const paths = {\n",
       "      \"vega\": \"https://cdn.jsdelivr.net/npm//vega@5?noext\",\n",
       "      \"vega-lib\": \"https://cdn.jsdelivr.net/npm//vega-lib?noext\",\n",
       "      \"vega-lite\": \"https://cdn.jsdelivr.net/npm//vega-lite@4.17.0?noext\",\n",
       "      \"vega-embed\": \"https://cdn.jsdelivr.net/npm//vega-embed@6?noext\",\n",
       "    };\n",
       "\n",
       "    function maybeLoadScript(lib, version) {\n",
       "      var key = `${lib.replace(\"-\", \"\")}_version`;\n",
       "      return (VEGA_DEBUG[key] == version) ?\n",
       "        Promise.resolve(paths[lib]) :\n",
       "        new Promise(function(resolve, reject) {\n",
       "          var s = document.createElement('script');\n",
       "          document.getElementsByTagName(\"head\")[0].appendChild(s);\n",
       "          s.async = true;\n",
       "          s.onload = () => {\n",
       "            VEGA_DEBUG[key] = version;\n",
       "            return resolve(paths[lib]);\n",
       "          };\n",
       "          s.onerror = () => reject(`Error loading script: ${paths[lib]}`);\n",
       "          s.src = paths[lib];\n",
       "        });\n",
       "    }\n",
       "\n",
       "    function showError(err) {\n",
       "      outputDiv.innerHTML = `<div class=\"error\" style=\"color:red;\">${err}</div>`;\n",
       "      throw err;\n",
       "    }\n",
       "\n",
       "    function displayChart(vegaEmbed) {\n",
       "      vegaEmbed(outputDiv, spec, embedOpt)\n",
       "        .catch(err => showError(`Javascript Error: ${err.message}<br>This usually means there's a typo in your chart specification. See the javascript console for the full traceback.`));\n",
       "    }\n",
       "\n",
       "    if(typeof define === \"function\" && define.amd) {\n",
       "      requirejs.config({paths});\n",
       "      require([\"vega-embed\"], displayChart, err => showError(`Error loading script: ${err.message}`));\n",
       "    } else {\n",
       "      maybeLoadScript(\"vega\", \"5\")\n",
       "        .then(() => maybeLoadScript(\"vega-lite\", \"4.17.0\"))\n",
       "        .then(() => maybeLoadScript(\"vega-embed\", \"6\"))\n",
       "        .catch(showError)\n",
       "        .then(() => displayChart(vegaEmbed));\n",
       "    }\n",
       "  })({\"config\": {\"view\": {\"continuousWidth\": 400, \"continuousHeight\": 300}}, \"data\": {\"name\": \"data-e8ac59c70397c553a73baa29d92b8f39\"}, \"mark\": \"bar\", \"encoding\": {\"x\": {\"field\": \"score1\", \"type\": \"nominal\"}, \"y\": {\"aggregate\": \"count\", \"field\": \"score1\", \"type\": \"nominal\"}}, \"$schema\": \"https://vega.github.io/schema/vega-lite/v4.17.0.json\", \"datasets\": {\"data-e8ac59c70397c553a73baa29d92b8f39\": [{\"score1\": 126.0}, {\"score1\": 123.0}, {\"score1\": 107.0}, {\"score1\": 113.0}, {\"score1\": 115.0}, {\"score1\": 108.0}, {\"score1\": 108.0}, {\"score1\": 117.0}, {\"score1\": 108.0}, {\"score1\": 102.0}, {\"score1\": 115.0}, {\"score1\": 123.0}, {\"score1\": 108.0}, {\"score1\": 107.0}, {\"score1\": 88.0}, {\"score1\": 97.0}, {\"score1\": 112.0}, {\"score1\": 134.0}, {\"score1\": 102.0}, {\"score1\": 130.0}, {\"score1\": 108.0}, {\"score1\": 109.0}, {\"score1\": 104.0}, {\"score1\": 126.0}, {\"score1\": 122.0}, {\"score1\": 123.0}, {\"score1\": 113.0}, {\"score1\": 105.0}, {\"score1\": 124.0}, {\"score1\": 120.0}, {\"score1\": 96.0}, {\"score1\": 125.0}, {\"score1\": 112.0}, {\"score1\": 137.0}, {\"score1\": 122.0}, {\"score1\": 109.0}, {\"score1\": 104.0}, {\"score1\": 109.0}, {\"score1\": 117.0}, {\"score1\": 121.0}, {\"score1\": 106.0}, {\"score1\": 130.0}, {\"score1\": 95.0}, {\"score1\": 120.0}, {\"score1\": 115.0}, {\"score1\": 90.0}, {\"score1\": 120.0}, {\"score1\": 114.0}, {\"score1\": 106.0}, {\"score1\": 134.0}, {\"score1\": 135.0}, {\"score1\": 120.0}, {\"score1\": 113.0}, {\"score1\": 108.0}, {\"score1\": 134.0}, {\"score1\": 113.0}, {\"score1\": 103.0}, {\"score1\": 110.0}, {\"score1\": 134.0}, {\"score1\": 119.0}, {\"score1\": 124.0}, {\"score1\": 134.0}, {\"score1\": 109.0}, {\"score1\": 98.0}, {\"score1\": 110.0}, {\"score1\": 125.0}, {\"score1\": 118.0}, {\"score1\": 123.0}, {\"score1\": 110.0}, {\"score1\": 112.0}, {\"score1\": 113.0}, {\"score1\": 123.0}, {\"score1\": 117.0}, {\"score1\": 90.0}, {\"score1\": 111.0}, {\"score1\": 119.0}, {\"score1\": 129.0}, {\"score1\": 117.0}, {\"score1\": 125.0}, {\"score1\": 124.0}, {\"score1\": 119.0}, {\"score1\": 120.0}, {\"score1\": 116.0}, {\"score1\": 123.0}, {\"score1\": 109.0}, {\"score1\": 111.0}, {\"score1\": 124.0}, {\"score1\": 91.0}, {\"score1\": 112.0}, {\"score1\": 128.0}, {\"score1\": 121.0}, {\"score1\": 107.0}, {\"score1\": 114.0}, {\"score1\": 124.0}, {\"score1\": 121.0}, {\"score1\": 111.0}, {\"score1\": 108.0}, {\"score1\": 139.0}, {\"score1\": 116.0}, {\"score1\": 110.0}, {\"score1\": 121.0}, {\"score1\": 95.0}, {\"score1\": 116.0}, {\"score1\": 99.0}, {\"score1\": 116.0}, {\"score1\": 116.0}, {\"score1\": 111.0}, {\"score1\": 99.0}, {\"score1\": 110.0}, {\"score1\": 114.0}, {\"score1\": 116.0}, {\"score1\": 101.0}, {\"score1\": 100.0}, {\"score1\": 106.0}, {\"score1\": 103.0}, {\"score1\": 106.0}, {\"score1\": 120.0}, {\"score1\": 130.0}, {\"score1\": 110.0}, {\"score1\": 104.0}, {\"score1\": 101.0}, {\"score1\": 88.0}, {\"score1\": 86.0}, {\"score1\": 123.0}, {\"score1\": 106.0}, {\"score1\": 130.0}, {\"score1\": 114.0}, {\"score1\": 111.0}, {\"score1\": 106.0}, {\"score1\": 102.0}, {\"score1\": 116.0}, {\"score1\": 123.0}, {\"score1\": 94.0}, {\"score1\": 118.0}, {\"score1\": 124.0}, {\"score1\": 108.0}, {\"score1\": 129.0}, {\"score1\": 126.0}, {\"score1\": 102.0}, {\"score1\": 100.0}, {\"score1\": 113.0}, {\"score1\": 103.0}, {\"score1\": 102.0}, {\"score1\": 100.0}, {\"score1\": 127.0}, {\"score1\": 112.0}, {\"score1\": 129.0}, {\"score1\": 100.0}, {\"score1\": 117.0}, {\"score1\": 107.0}, {\"score1\": 111.0}, {\"score1\": 106.0}, {\"score1\": 107.0}, {\"score1\": 109.0}, {\"score1\": 96.0}, {\"score1\": 116.0}, {\"score1\": 139.0}, {\"score1\": 119.0}, {\"score1\": 94.0}, {\"score1\": 119.0}, {\"score1\": 95.0}, {\"score1\": 116.0}, {\"score1\": 119.0}, {\"score1\": 128.0}, {\"score1\": 112.0}, {\"score1\": 122.0}, {\"score1\": 132.0}, {\"score1\": 111.0}, {\"score1\": 117.0}, {\"score1\": 127.0}, {\"score1\": 114.0}, {\"score1\": 113.0}, {\"score1\": 117.0}, {\"score1\": 104.0}, {\"score1\": 95.0}, {\"score1\": 114.0}, {\"score1\": 131.0}, {\"score1\": 121.0}, {\"score1\": 132.0}, {\"score1\": 111.0}, {\"score1\": 114.0}, {\"score1\": 106.0}, {\"score1\": 114.0}, {\"score1\": 95.0}, {\"score1\": 121.0}, {\"score1\": 118.0}, {\"score1\": 108.0}, {\"score1\": 121.0}, {\"score1\": 132.0}, {\"score1\": 117.0}, {\"score1\": 119.0}, {\"score1\": 135.0}, {\"score1\": 102.0}, {\"score1\": 124.0}, {\"score1\": 105.0}, {\"score1\": 103.0}, {\"score1\": 122.0}, {\"score1\": 116.0}, {\"score1\": 111.0}, {\"score1\": 105.0}, {\"score1\": 113.0}, {\"score1\": 126.0}, {\"score1\": 106.0}, {\"score1\": 106.0}]}}, {\"mode\": \"vega-lite\"});\n",
       "</script>"
      ],
      "text/plain": [
       "alt.Chart(...)"
      ]
     },
     "execution_count": 34,
     "metadata": {},
     "output_type": "execute_result"
    }
   ],
   "source": [
    "alt.Chart(SourceClean).mark_bar().encode(\n",
    "    x='score1',\n",
    "    y=alt.Y('count(score1)')\n",
    ")"
   ]
  },
  {
   "cell_type": "code",
   "execution_count": 46,
   "metadata": {},
   "outputs": [],
   "source": [
    "chart = alt.Chart(SourceClean).mark_bar().encode(\n",
    "    x=alt.X('score1',\n",
    "        sort='-y' ),\n",
    "    y=alt.Y('count(score1)')\n",
    ")"
   ]
  },
  {
   "cell_type": "code",
   "execution_count": 47,
   "metadata": {},
   "outputs": [
    {
     "data": {
      "text/html": [
       "\n",
       "<div id=\"altair-viz-12733fb996e04078bfef5bb4db272bff\"></div>\n",
       "<script type=\"text/javascript\">\n",
       "  var VEGA_DEBUG = (typeof VEGA_DEBUG == \"undefined\") ? {} : VEGA_DEBUG;\n",
       "  (function(spec, embedOpt){\n",
       "    let outputDiv = document.currentScript.previousElementSibling;\n",
       "    if (outputDiv.id !== \"altair-viz-12733fb996e04078bfef5bb4db272bff\") {\n",
       "      outputDiv = document.getElementById(\"altair-viz-12733fb996e04078bfef5bb4db272bff\");\n",
       "    }\n",
       "    const paths = {\n",
       "      \"vega\": \"https://cdn.jsdelivr.net/npm//vega@5?noext\",\n",
       "      \"vega-lib\": \"https://cdn.jsdelivr.net/npm//vega-lib?noext\",\n",
       "      \"vega-lite\": \"https://cdn.jsdelivr.net/npm//vega-lite@4.17.0?noext\",\n",
       "      \"vega-embed\": \"https://cdn.jsdelivr.net/npm//vega-embed@6?noext\",\n",
       "    };\n",
       "\n",
       "    function maybeLoadScript(lib, version) {\n",
       "      var key = `${lib.replace(\"-\", \"\")}_version`;\n",
       "      return (VEGA_DEBUG[key] == version) ?\n",
       "        Promise.resolve(paths[lib]) :\n",
       "        new Promise(function(resolve, reject) {\n",
       "          var s = document.createElement('script');\n",
       "          document.getElementsByTagName(\"head\")[0].appendChild(s);\n",
       "          s.async = true;\n",
       "          s.onload = () => {\n",
       "            VEGA_DEBUG[key] = version;\n",
       "            return resolve(paths[lib]);\n",
       "          };\n",
       "          s.onerror = () => reject(`Error loading script: ${paths[lib]}`);\n",
       "          s.src = paths[lib];\n",
       "        });\n",
       "    }\n",
       "\n",
       "    function showError(err) {\n",
       "      outputDiv.innerHTML = `<div class=\"error\" style=\"color:red;\">${err}</div>`;\n",
       "      throw err;\n",
       "    }\n",
       "\n",
       "    function displayChart(vegaEmbed) {\n",
       "      vegaEmbed(outputDiv, spec, embedOpt)\n",
       "        .catch(err => showError(`Javascript Error: ${err.message}<br>This usually means there's a typo in your chart specification. See the javascript console for the full traceback.`));\n",
       "    }\n",
       "\n",
       "    if(typeof define === \"function\" && define.amd) {\n",
       "      requirejs.config({paths});\n",
       "      require([\"vega-embed\"], displayChart, err => showError(`Error loading script: ${err.message}`));\n",
       "    } else {\n",
       "      maybeLoadScript(\"vega\", \"5\")\n",
       "        .then(() => maybeLoadScript(\"vega-lite\", \"4.17.0\"))\n",
       "        .then(() => maybeLoadScript(\"vega-embed\", \"6\"))\n",
       "        .catch(showError)\n",
       "        .then(() => displayChart(vegaEmbed));\n",
       "    }\n",
       "  })({\"config\": {\"view\": {\"continuousWidth\": 400, \"continuousHeight\": 300}}, \"data\": {\"name\": \"data-e8ac59c70397c553a73baa29d92b8f39\"}, \"mark\": \"bar\", \"encoding\": {\"x\": {\"field\": \"score1\", \"sort\": \"-y\", \"type\": \"nominal\"}, \"y\": {\"aggregate\": \"count\", \"field\": \"score1\", \"type\": \"nominal\"}}, \"$schema\": \"https://vega.github.io/schema/vega-lite/v4.17.0.json\", \"datasets\": {\"data-e8ac59c70397c553a73baa29d92b8f39\": [{\"score1\": 126.0}, {\"score1\": 123.0}, {\"score1\": 107.0}, {\"score1\": 113.0}, {\"score1\": 115.0}, {\"score1\": 108.0}, {\"score1\": 108.0}, {\"score1\": 117.0}, {\"score1\": 108.0}, {\"score1\": 102.0}, {\"score1\": 115.0}, {\"score1\": 123.0}, {\"score1\": 108.0}, {\"score1\": 107.0}, {\"score1\": 88.0}, {\"score1\": 97.0}, {\"score1\": 112.0}, {\"score1\": 134.0}, {\"score1\": 102.0}, {\"score1\": 130.0}, {\"score1\": 108.0}, {\"score1\": 109.0}, {\"score1\": 104.0}, {\"score1\": 126.0}, {\"score1\": 122.0}, {\"score1\": 123.0}, {\"score1\": 113.0}, {\"score1\": 105.0}, {\"score1\": 124.0}, {\"score1\": 120.0}, {\"score1\": 96.0}, {\"score1\": 125.0}, {\"score1\": 112.0}, {\"score1\": 137.0}, {\"score1\": 122.0}, {\"score1\": 109.0}, {\"score1\": 104.0}, {\"score1\": 109.0}, {\"score1\": 117.0}, {\"score1\": 121.0}, {\"score1\": 106.0}, {\"score1\": 130.0}, {\"score1\": 95.0}, {\"score1\": 120.0}, {\"score1\": 115.0}, {\"score1\": 90.0}, {\"score1\": 120.0}, {\"score1\": 114.0}, {\"score1\": 106.0}, {\"score1\": 134.0}, {\"score1\": 135.0}, {\"score1\": 120.0}, {\"score1\": 113.0}, {\"score1\": 108.0}, {\"score1\": 134.0}, {\"score1\": 113.0}, {\"score1\": 103.0}, {\"score1\": 110.0}, {\"score1\": 134.0}, {\"score1\": 119.0}, {\"score1\": 124.0}, {\"score1\": 134.0}, {\"score1\": 109.0}, {\"score1\": 98.0}, {\"score1\": 110.0}, {\"score1\": 125.0}, {\"score1\": 118.0}, {\"score1\": 123.0}, {\"score1\": 110.0}, {\"score1\": 112.0}, {\"score1\": 113.0}, {\"score1\": 123.0}, {\"score1\": 117.0}, {\"score1\": 90.0}, {\"score1\": 111.0}, {\"score1\": 119.0}, {\"score1\": 129.0}, {\"score1\": 117.0}, {\"score1\": 125.0}, {\"score1\": 124.0}, {\"score1\": 119.0}, {\"score1\": 120.0}, {\"score1\": 116.0}, {\"score1\": 123.0}, {\"score1\": 109.0}, {\"score1\": 111.0}, {\"score1\": 124.0}, {\"score1\": 91.0}, {\"score1\": 112.0}, {\"score1\": 128.0}, {\"score1\": 121.0}, {\"score1\": 107.0}, {\"score1\": 114.0}, {\"score1\": 124.0}, {\"score1\": 121.0}, {\"score1\": 111.0}, {\"score1\": 108.0}, {\"score1\": 139.0}, {\"score1\": 116.0}, {\"score1\": 110.0}, {\"score1\": 121.0}, {\"score1\": 95.0}, {\"score1\": 116.0}, {\"score1\": 99.0}, {\"score1\": 116.0}, {\"score1\": 116.0}, {\"score1\": 111.0}, {\"score1\": 99.0}, {\"score1\": 110.0}, {\"score1\": 114.0}, {\"score1\": 116.0}, {\"score1\": 101.0}, {\"score1\": 100.0}, {\"score1\": 106.0}, {\"score1\": 103.0}, {\"score1\": 106.0}, {\"score1\": 120.0}, {\"score1\": 130.0}, {\"score1\": 110.0}, {\"score1\": 104.0}, {\"score1\": 101.0}, {\"score1\": 88.0}, {\"score1\": 86.0}, {\"score1\": 123.0}, {\"score1\": 106.0}, {\"score1\": 130.0}, {\"score1\": 114.0}, {\"score1\": 111.0}, {\"score1\": 106.0}, {\"score1\": 102.0}, {\"score1\": 116.0}, {\"score1\": 123.0}, {\"score1\": 94.0}, {\"score1\": 118.0}, {\"score1\": 124.0}, {\"score1\": 108.0}, {\"score1\": 129.0}, {\"score1\": 126.0}, {\"score1\": 102.0}, {\"score1\": 100.0}, {\"score1\": 113.0}, {\"score1\": 103.0}, {\"score1\": 102.0}, {\"score1\": 100.0}, {\"score1\": 127.0}, {\"score1\": 112.0}, {\"score1\": 129.0}, {\"score1\": 100.0}, {\"score1\": 117.0}, {\"score1\": 107.0}, {\"score1\": 111.0}, {\"score1\": 106.0}, {\"score1\": 107.0}, {\"score1\": 109.0}, {\"score1\": 96.0}, {\"score1\": 116.0}, {\"score1\": 139.0}, {\"score1\": 119.0}, {\"score1\": 94.0}, {\"score1\": 119.0}, {\"score1\": 95.0}, {\"score1\": 116.0}, {\"score1\": 119.0}, {\"score1\": 128.0}, {\"score1\": 112.0}, {\"score1\": 122.0}, {\"score1\": 132.0}, {\"score1\": 111.0}, {\"score1\": 117.0}, {\"score1\": 127.0}, {\"score1\": 114.0}, {\"score1\": 113.0}, {\"score1\": 117.0}, {\"score1\": 104.0}, {\"score1\": 95.0}, {\"score1\": 114.0}, {\"score1\": 131.0}, {\"score1\": 121.0}, {\"score1\": 132.0}, {\"score1\": 111.0}, {\"score1\": 114.0}, {\"score1\": 106.0}, {\"score1\": 114.0}, {\"score1\": 95.0}, {\"score1\": 121.0}, {\"score1\": 118.0}, {\"score1\": 108.0}, {\"score1\": 121.0}, {\"score1\": 132.0}, {\"score1\": 117.0}, {\"score1\": 119.0}, {\"score1\": 135.0}, {\"score1\": 102.0}, {\"score1\": 124.0}, {\"score1\": 105.0}, {\"score1\": 103.0}, {\"score1\": 122.0}, {\"score1\": 116.0}, {\"score1\": 111.0}, {\"score1\": 105.0}, {\"score1\": 113.0}, {\"score1\": 126.0}, {\"score1\": 106.0}, {\"score1\": 106.0}]}}, {\"mode\": \"vega-lite\"});\n",
       "</script>"
      ],
      "text/plain": [
       "alt.Chart(...)"
      ]
     },
     "execution_count": 47,
     "metadata": {},
     "output_type": "execute_result"
    }
   ],
   "source": [
    "chart"
   ]
  },
  {
   "cell_type": "code",
   "execution_count": 48,
   "metadata": {},
   "outputs": [
    {
     "data": {
      "text/html": [
       "\n",
       "<div id=\"altair-viz-fa234935b2eb4bc4977b3509f0d049b8\"></div>\n",
       "<script type=\"text/javascript\">\n",
       "  var VEGA_DEBUG = (typeof VEGA_DEBUG == \"undefined\") ? {} : VEGA_DEBUG;\n",
       "  (function(spec, embedOpt){\n",
       "    let outputDiv = document.currentScript.previousElementSibling;\n",
       "    if (outputDiv.id !== \"altair-viz-fa234935b2eb4bc4977b3509f0d049b8\") {\n",
       "      outputDiv = document.getElementById(\"altair-viz-fa234935b2eb4bc4977b3509f0d049b8\");\n",
       "    }\n",
       "    const paths = {\n",
       "      \"vega\": \"https://cdn.jsdelivr.net/npm//vega@5?noext\",\n",
       "      \"vega-lib\": \"https://cdn.jsdelivr.net/npm//vega-lib?noext\",\n",
       "      \"vega-lite\": \"https://cdn.jsdelivr.net/npm//vega-lite@4.17.0?noext\",\n",
       "      \"vega-embed\": \"https://cdn.jsdelivr.net/npm//vega-embed@6?noext\",\n",
       "    };\n",
       "\n",
       "    function maybeLoadScript(lib, version) {\n",
       "      var key = `${lib.replace(\"-\", \"\")}_version`;\n",
       "      return (VEGA_DEBUG[key] == version) ?\n",
       "        Promise.resolve(paths[lib]) :\n",
       "        new Promise(function(resolve, reject) {\n",
       "          var s = document.createElement('script');\n",
       "          document.getElementsByTagName(\"head\")[0].appendChild(s);\n",
       "          s.async = true;\n",
       "          s.onload = () => {\n",
       "            VEGA_DEBUG[key] = version;\n",
       "            return resolve(paths[lib]);\n",
       "          };\n",
       "          s.onerror = () => reject(`Error loading script: ${paths[lib]}`);\n",
       "          s.src = paths[lib];\n",
       "        });\n",
       "    }\n",
       "\n",
       "    function showError(err) {\n",
       "      outputDiv.innerHTML = `<div class=\"error\" style=\"color:red;\">${err}</div>`;\n",
       "      throw err;\n",
       "    }\n",
       "\n",
       "    function displayChart(vegaEmbed) {\n",
       "      vegaEmbed(outputDiv, spec, embedOpt)\n",
       "        .catch(err => showError(`Javascript Error: ${err.message}<br>This usually means there's a typo in your chart specification. See the javascript console for the full traceback.`));\n",
       "    }\n",
       "\n",
       "    if(typeof define === \"function\" && define.amd) {\n",
       "      requirejs.config({paths});\n",
       "      require([\"vega-embed\"], displayChart, err => showError(`Error loading script: ${err.message}`));\n",
       "    } else {\n",
       "      maybeLoadScript(\"vega\", \"5\")\n",
       "        .then(() => maybeLoadScript(\"vega-lite\", \"4.17.0\"))\n",
       "        .then(() => maybeLoadScript(\"vega-embed\", \"6\"))\n",
       "        .catch(showError)\n",
       "        .then(() => displayChart(vegaEmbed));\n",
       "    }\n",
       "  })({\"config\": {\"view\": {\"continuousWidth\": 400, \"continuousHeight\": 300}}, \"data\": {\"name\": \"data-e8ac59c70397c553a73baa29d92b8f39\"}, \"mark\": \"bar\", \"encoding\": {\"x\": {\"field\": \"score1\", \"sort\": \"-y\", \"type\": \"nominal\"}, \"y\": {\"aggregate\": \"count\", \"field\": \"score1\", \"type\": \"nominal\"}}, \"height\": 200, \"title\": \"Predicted Score in first halftime\", \"width\": 500, \"$schema\": \"https://vega.github.io/schema/vega-lite/v4.17.0.json\", \"datasets\": {\"data-e8ac59c70397c553a73baa29d92b8f39\": [{\"score1\": 126.0}, {\"score1\": 123.0}, {\"score1\": 107.0}, {\"score1\": 113.0}, {\"score1\": 115.0}, {\"score1\": 108.0}, {\"score1\": 108.0}, {\"score1\": 117.0}, {\"score1\": 108.0}, {\"score1\": 102.0}, {\"score1\": 115.0}, {\"score1\": 123.0}, {\"score1\": 108.0}, {\"score1\": 107.0}, {\"score1\": 88.0}, {\"score1\": 97.0}, {\"score1\": 112.0}, {\"score1\": 134.0}, {\"score1\": 102.0}, {\"score1\": 130.0}, {\"score1\": 108.0}, {\"score1\": 109.0}, {\"score1\": 104.0}, {\"score1\": 126.0}, {\"score1\": 122.0}, {\"score1\": 123.0}, {\"score1\": 113.0}, {\"score1\": 105.0}, {\"score1\": 124.0}, {\"score1\": 120.0}, {\"score1\": 96.0}, {\"score1\": 125.0}, {\"score1\": 112.0}, {\"score1\": 137.0}, {\"score1\": 122.0}, {\"score1\": 109.0}, {\"score1\": 104.0}, {\"score1\": 109.0}, {\"score1\": 117.0}, {\"score1\": 121.0}, {\"score1\": 106.0}, {\"score1\": 130.0}, {\"score1\": 95.0}, {\"score1\": 120.0}, {\"score1\": 115.0}, {\"score1\": 90.0}, {\"score1\": 120.0}, {\"score1\": 114.0}, {\"score1\": 106.0}, {\"score1\": 134.0}, {\"score1\": 135.0}, {\"score1\": 120.0}, {\"score1\": 113.0}, {\"score1\": 108.0}, {\"score1\": 134.0}, {\"score1\": 113.0}, {\"score1\": 103.0}, {\"score1\": 110.0}, {\"score1\": 134.0}, {\"score1\": 119.0}, {\"score1\": 124.0}, {\"score1\": 134.0}, {\"score1\": 109.0}, {\"score1\": 98.0}, {\"score1\": 110.0}, {\"score1\": 125.0}, {\"score1\": 118.0}, {\"score1\": 123.0}, {\"score1\": 110.0}, {\"score1\": 112.0}, {\"score1\": 113.0}, {\"score1\": 123.0}, {\"score1\": 117.0}, {\"score1\": 90.0}, {\"score1\": 111.0}, {\"score1\": 119.0}, {\"score1\": 129.0}, {\"score1\": 117.0}, {\"score1\": 125.0}, {\"score1\": 124.0}, {\"score1\": 119.0}, {\"score1\": 120.0}, {\"score1\": 116.0}, {\"score1\": 123.0}, {\"score1\": 109.0}, {\"score1\": 111.0}, {\"score1\": 124.0}, {\"score1\": 91.0}, {\"score1\": 112.0}, {\"score1\": 128.0}, {\"score1\": 121.0}, {\"score1\": 107.0}, {\"score1\": 114.0}, {\"score1\": 124.0}, {\"score1\": 121.0}, {\"score1\": 111.0}, {\"score1\": 108.0}, {\"score1\": 139.0}, {\"score1\": 116.0}, {\"score1\": 110.0}, {\"score1\": 121.0}, {\"score1\": 95.0}, {\"score1\": 116.0}, {\"score1\": 99.0}, {\"score1\": 116.0}, {\"score1\": 116.0}, {\"score1\": 111.0}, {\"score1\": 99.0}, {\"score1\": 110.0}, {\"score1\": 114.0}, {\"score1\": 116.0}, {\"score1\": 101.0}, {\"score1\": 100.0}, {\"score1\": 106.0}, {\"score1\": 103.0}, {\"score1\": 106.0}, {\"score1\": 120.0}, {\"score1\": 130.0}, {\"score1\": 110.0}, {\"score1\": 104.0}, {\"score1\": 101.0}, {\"score1\": 88.0}, {\"score1\": 86.0}, {\"score1\": 123.0}, {\"score1\": 106.0}, {\"score1\": 130.0}, {\"score1\": 114.0}, {\"score1\": 111.0}, {\"score1\": 106.0}, {\"score1\": 102.0}, {\"score1\": 116.0}, {\"score1\": 123.0}, {\"score1\": 94.0}, {\"score1\": 118.0}, {\"score1\": 124.0}, {\"score1\": 108.0}, {\"score1\": 129.0}, {\"score1\": 126.0}, {\"score1\": 102.0}, {\"score1\": 100.0}, {\"score1\": 113.0}, {\"score1\": 103.0}, {\"score1\": 102.0}, {\"score1\": 100.0}, {\"score1\": 127.0}, {\"score1\": 112.0}, {\"score1\": 129.0}, {\"score1\": 100.0}, {\"score1\": 117.0}, {\"score1\": 107.0}, {\"score1\": 111.0}, {\"score1\": 106.0}, {\"score1\": 107.0}, {\"score1\": 109.0}, {\"score1\": 96.0}, {\"score1\": 116.0}, {\"score1\": 139.0}, {\"score1\": 119.0}, {\"score1\": 94.0}, {\"score1\": 119.0}, {\"score1\": 95.0}, {\"score1\": 116.0}, {\"score1\": 119.0}, {\"score1\": 128.0}, {\"score1\": 112.0}, {\"score1\": 122.0}, {\"score1\": 132.0}, {\"score1\": 111.0}, {\"score1\": 117.0}, {\"score1\": 127.0}, {\"score1\": 114.0}, {\"score1\": 113.0}, {\"score1\": 117.0}, {\"score1\": 104.0}, {\"score1\": 95.0}, {\"score1\": 114.0}, {\"score1\": 131.0}, {\"score1\": 121.0}, {\"score1\": 132.0}, {\"score1\": 111.0}, {\"score1\": 114.0}, {\"score1\": 106.0}, {\"score1\": 114.0}, {\"score1\": 95.0}, {\"score1\": 121.0}, {\"score1\": 118.0}, {\"score1\": 108.0}, {\"score1\": 121.0}, {\"score1\": 132.0}, {\"score1\": 117.0}, {\"score1\": 119.0}, {\"score1\": 135.0}, {\"score1\": 102.0}, {\"score1\": 124.0}, {\"score1\": 105.0}, {\"score1\": 103.0}, {\"score1\": 122.0}, {\"score1\": 116.0}, {\"score1\": 111.0}, {\"score1\": 105.0}, {\"score1\": 113.0}, {\"score1\": 126.0}, {\"score1\": 106.0}, {\"score1\": 106.0}]}}, {\"mode\": \"vega-lite\"});\n",
       "</script>"
      ],
      "text/plain": [
       "alt.Chart(...)"
      ]
     },
     "execution_count": 48,
     "metadata": {},
     "output_type": "execute_result"
    }
   ],
   "source": [
    "chart.properties( \n",
    "    title= 'Predicted Score in first halftime',\n",
    "    width= 500,\n",
    "    height= 200\n",
    ")"
   ]
  },
  {
   "cell_type": "markdown",
   "metadata": {},
   "source": []
  }
 ],
 "metadata": {
  "kernelspec": {
   "display_name": "Python 3",
   "language": "python",
   "name": "python3"
  },
  "language_info": {
   "codemirror_mode": {
    "name": "ipython",
    "version": 3
   },
   "file_extension": ".py",
   "mimetype": "text/x-python",
   "name": "python",
   "nbconvert_exporter": "python",
   "pygments_lexer": "ipython3",
   "version": "3.9.13 | packaged by conda-forge | (main, May 27 2022, 16:50:36) [MSC v.1929 64 bit (AMD64)]"
  },
  "orig_nbformat": 4,
  "vscode": {
   "interpreter": {
    "hash": "6ecefd7b8bfcf57efb5cc130173e6ed36c52dd59eb123faecd1d895ae54b15db"
   }
  }
 },
 "nbformat": 4,
 "nbformat_minor": 2
}
