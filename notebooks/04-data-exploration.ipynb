{
 "cells": [
  {
   "cell_type": "markdown",
   "metadata": {},
   "source": [
    "# Data exploration \n",
    "\n",
    "---\n",
    "\n",
    "Group name: O\n",
    "\n",
    "---\n"
   ]
  },
  {
   "cell_type": "markdown",
   "metadata": {},
   "source": [
    "## Introduction\n",
    "\n",
    "*This section includes a short description of the data* "
   ]
  },
  {
   "cell_type": "markdown",
   "metadata": {},
   "source": [
    "## Setup"
   ]
  },
  {
   "cell_type": "code",
   "execution_count": 10,
   "metadata": {},
   "outputs": [
    {
     "data": {
      "text/plain": [
       "DataTransformerRegistry.enable('default')"
      ]
     },
     "execution_count": 10,
     "metadata": {},
     "output_type": "execute_result"
    }
   ],
   "source": [
    "import pandas as pd\n",
    "import altair as alt\n",
    "import warnings\n",
    "warnings.simplefilter(action='ignore', category=FutureWarning)\n",
    "\n",
    "alt.data_transformers.disable_max_rows()\n"
   ]
  },
  {
   "cell_type": "markdown",
   "metadata": {},
   "source": [
    "## Data"
   ]
  },
  {
   "cell_type": "markdown",
   "metadata": {},
   "source": [
    "## Import data"
   ]
  },
  {
   "cell_type": "markdown",
   "metadata": {},
   "source": []
  },
  {
   "cell_type": "code",
   "execution_count": 11,
   "metadata": {},
   "outputs": [],
   "source": [
    "DATA = \"../data/external/nba_elo_latest.csv\""
   ]
  },
  {
   "cell_type": "markdown",
   "metadata": {},
   "source": [
    "### Data structure"
   ]
  },
  {
   "cell_type": "code",
   "execution_count": 12,
   "metadata": {},
   "outputs": [
    {
     "name": "stdout",
     "output_type": "stream",
     "text": [
      "            date  season  neutral  playoff team1 team2     elo1_pre  \\\n",
      "0     2022-10-18    2023        0      NaN   BOS   PHI  1657.639749   \n",
      "1     2022-10-18    2023        0      NaN   GSW   LAL  1660.620307   \n",
      "2     2022-10-19    2023        0      NaN   IND   WAS  1399.201934   \n",
      "3     2022-10-19    2023        0      NaN   DET   ORL  1393.525172   \n",
      "4     2022-10-19    2023        0      NaN   MEM   NYK  1605.024654   \n",
      "...          ...     ...      ...      ...   ...   ...          ...   \n",
      "1225  2023-04-09    2023        0      NaN   OKC   MEM  1418.664795   \n",
      "1226  2023-04-09    2023        0      NaN   LAL   UTA  1404.345291   \n",
      "1227  2023-04-09    2023        0      NaN   POR   GSW  1426.624444   \n",
      "1228  2023-04-09    2023        0      NaN   PHO   LAC  1596.463751   \n",
      "1229  2023-04-09    2023        0      NaN   DEN   SAC  1560.693716   \n",
      "\n",
      "         elo2_pre  elo_prob1  elo_prob2  ...  carm-elo2_post  raptor1_pre  \\\n",
      "0     1582.247327   0.732950   0.267050  ...             NaN  1693.243079   \n",
      "1     1442.352444   0.862011   0.137989  ...             NaN  1615.718147   \n",
      "2     1440.077372   0.584275   0.415725  ...             NaN  1462.352663   \n",
      "3     1366.089249   0.675590   0.324410  ...             NaN  1308.969909   \n",
      "4     1520.387218   0.743236   0.256764  ...             NaN  1612.012431   \n",
      "...           ...        ...        ...  ...             ...          ...   \n",
      "1225  1595.771902   0.390821   0.609179  ...             NaN  1415.436887   \n",
      "1226  1584.410876   0.386774   0.613226  ...             NaN  1435.337085   \n",
      "1227  1584.512996   0.417454   0.582546  ...             NaN  1511.132536   \n",
      "1228  1487.652094   0.768883   0.231117  ...             NaN  1634.401974   \n",
      "1229  1445.725377   0.775121   0.224879  ...             NaN  1616.571158   \n",
      "\n",
      "      raptor2_pre  raptor_prob1  raptor_prob2  score1  score2  quality  \\\n",
      "0     1641.876729      0.670612      0.329388   126.0   117.0       96   \n",
      "1     1472.173711      0.776502      0.223498   123.0   109.0       67   \n",
      "2     1472.018225      0.599510      0.400490   107.0   114.0       37   \n",
      "3     1349.865183      0.563270      0.436730   113.0   109.0        3   \n",
      "4     1549.908529      0.691851      0.308149   115.0   112.0       80   \n",
      "...           ...           ...           ...     ...     ...      ...   \n",
      "1225  1659.242954      0.280763      0.719237     NaN     NaN       62   \n",
      "1226  1554.643590      0.504294      0.495706     NaN     NaN       47   \n",
      "1227  1594.595788      0.413709      0.586291     NaN     NaN       71   \n",
      "1228  1565.854278      0.754347      0.245653     NaN     NaN       85   \n",
      "1229  1472.788747      0.777983      0.222017     NaN     NaN       68   \n",
      "\n",
      "      importance  total_rating  \n",
      "0             13            55  \n",
      "1             20            44  \n",
      "2             28            33  \n",
      "3              1             2  \n",
      "4             25            53  \n",
      "...          ...           ...  \n",
      "1225          15            39  \n",
      "1226          33            40  \n",
      "1227          93            82  \n",
      "1228          47            66  \n",
      "1229          27            48  \n",
      "\n",
      "[1230 rows x 27 columns]\n",
      "<class 'pandas.core.frame.DataFrame'>\n",
      "RangeIndex: 1230 entries, 0 to 1229\n",
      "Data columns (total 27 columns):\n",
      " #   Column          Non-Null Count  Dtype  \n",
      "---  ------          --------------  -----  \n",
      " 0   date            1230 non-null   object \n",
      " 1   season          1230 non-null   int64  \n",
      " 2   neutral         1230 non-null   int64  \n",
      " 3   playoff         0 non-null      float64\n",
      " 4   team1           1230 non-null   object \n",
      " 5   team2           1230 non-null   object \n",
      " 6   elo1_pre        1230 non-null   float64\n",
      " 7   elo2_pre        1230 non-null   float64\n",
      " 8   elo_prob1       1230 non-null   float64\n",
      " 9   elo_prob2       1230 non-null   float64\n",
      " 10  elo1_post       204 non-null    float64\n",
      " 11  elo2_post       204 non-null    float64\n",
      " 12  carm-elo1_pre   0 non-null      float64\n",
      " 13  carm-elo2_pre   0 non-null      float64\n",
      " 14  carm-elo_prob1  0 non-null      float64\n",
      " 15  carm-elo_prob2  0 non-null      float64\n",
      " 16  carm-elo1_post  0 non-null      float64\n",
      " 17  carm-elo2_post  0 non-null      float64\n",
      " 18  raptor1_pre     1230 non-null   float64\n",
      " 19  raptor2_pre     1230 non-null   float64\n",
      " 20  raptor_prob1    1230 non-null   float64\n",
      " 21  raptor_prob2    1230 non-null   float64\n",
      " 22  score1          204 non-null    float64\n",
      " 23  score2          204 non-null    float64\n",
      " 24  quality         1230 non-null   int64  \n",
      " 25  importance      1230 non-null   int64  \n",
      " 26  total_rating    1230 non-null   int64  \n",
      "dtypes: float64(19), int64(5), object(3)\n",
      "memory usage: 259.6+ KB\n"
     ]
    }
   ],
   "source": [
    "df = pd.read_csv(DATA)\n",
    "print(df)\n",
    "\n",
    "df.info()"
   ]
  },
  {
   "cell_type": "markdown",
   "metadata": {},
   "source": [
    "### Data corrections"
   ]
  },
  {
   "cell_type": "code",
   "execution_count": 13,
   "metadata": {},
   "outputs": [],
   "source": [
    "df['score1'] = df['score1'].astype(\"category\")\n",
    "df['score2'] = df['score2'].astype(\"category\")"
   ]
  },
  {
   "cell_type": "code",
   "execution_count": 14,
   "metadata": {},
   "outputs": [
    {
     "name": "stdout",
     "output_type": "stream",
     "text": [
      "<class 'pandas.core.frame.DataFrame'>\n",
      "RangeIndex: 1230 entries, 0 to 1229\n",
      "Data columns (total 27 columns):\n",
      " #   Column          Non-Null Count  Dtype   \n",
      "---  ------          --------------  -----   \n",
      " 0   date            1230 non-null   object  \n",
      " 1   season          1230 non-null   int64   \n",
      " 2   neutral         1230 non-null   int64   \n",
      " 3   playoff         0 non-null      float64 \n",
      " 4   team1           1230 non-null   object  \n",
      " 5   team2           1230 non-null   object  \n",
      " 6   elo1_pre        1230 non-null   float64 \n",
      " 7   elo2_pre        1230 non-null   float64 \n",
      " 8   elo_prob1       1230 non-null   float64 \n",
      " 9   elo_prob2       1230 non-null   float64 \n",
      " 10  elo1_post       204 non-null    float64 \n",
      " 11  elo2_post       204 non-null    float64 \n",
      " 12  carm-elo1_pre   0 non-null      float64 \n",
      " 13  carm-elo2_pre   0 non-null      float64 \n",
      " 14  carm-elo_prob1  0 non-null      float64 \n",
      " 15  carm-elo_prob2  0 non-null      float64 \n",
      " 16  carm-elo1_post  0 non-null      float64 \n",
      " 17  carm-elo2_post  0 non-null      float64 \n",
      " 18  raptor1_pre     1230 non-null   float64 \n",
      " 19  raptor2_pre     1230 non-null   float64 \n",
      " 20  raptor_prob1    1230 non-null   float64 \n",
      " 21  raptor_prob2    1230 non-null   float64 \n",
      " 22  score1          204 non-null    category\n",
      " 23  score2          204 non-null    category\n",
      " 24  quality         1230 non-null   int64   \n",
      " 25  importance      1230 non-null   int64   \n",
      " 26  total_rating    1230 non-null   int64   \n",
      "dtypes: category(2), float64(17), int64(5), object(3)\n",
      "memory usage: 246.6+ KB\n"
     ]
    }
   ],
   "source": [
    "df.info()"
   ]
  },
  {
   "cell_type": "markdown",
   "metadata": {},
   "source": [
    "### Variable lists"
   ]
  },
  {
   "cell_type": "code",
   "execution_count": 16,
   "metadata": {},
   "outputs": [],
   "source": [
    "# make a list of variables you want to use\n",
    "var_list = ['score1']"
   ]
  },
  {
   "cell_type": "code",
   "execution_count": 22,
   "metadata": {},
   "outputs": [],
   "source": [
    "source = df[var_list]"
   ]
  },
  {
   "cell_type": "code",
   "execution_count": 23,
   "metadata": {},
   "outputs": [
    {
     "data": {
      "text/html": [
       "<div>\n",
       "<style scoped>\n",
       "    .dataframe tbody tr th:only-of-type {\n",
       "        vertical-align: middle;\n",
       "    }\n",
       "\n",
       "    .dataframe tbody tr th {\n",
       "        vertical-align: top;\n",
       "    }\n",
       "\n",
       "    .dataframe thead th {\n",
       "        text-align: right;\n",
       "    }\n",
       "</style>\n",
       "<table border=\"1\" class=\"dataframe\">\n",
       "  <thead>\n",
       "    <tr style=\"text-align: right;\">\n",
       "      <th></th>\n",
       "      <th>score1</th>\n",
       "    </tr>\n",
       "  </thead>\n",
       "  <tbody>\n",
       "    <tr>\n",
       "      <th>0</th>\n",
       "      <td>126.0</td>\n",
       "    </tr>\n",
       "    <tr>\n",
       "      <th>1</th>\n",
       "      <td>123.0</td>\n",
       "    </tr>\n",
       "    <tr>\n",
       "      <th>2</th>\n",
       "      <td>107.0</td>\n",
       "    </tr>\n",
       "    <tr>\n",
       "      <th>3</th>\n",
       "      <td>113.0</td>\n",
       "    </tr>\n",
       "    <tr>\n",
       "      <th>4</th>\n",
       "      <td>115.0</td>\n",
       "    </tr>\n",
       "    <tr>\n",
       "      <th>...</th>\n",
       "      <td>...</td>\n",
       "    </tr>\n",
       "    <tr>\n",
       "      <th>1225</th>\n",
       "      <td>NaN</td>\n",
       "    </tr>\n",
       "    <tr>\n",
       "      <th>1226</th>\n",
       "      <td>NaN</td>\n",
       "    </tr>\n",
       "    <tr>\n",
       "      <th>1227</th>\n",
       "      <td>NaN</td>\n",
       "    </tr>\n",
       "    <tr>\n",
       "      <th>1228</th>\n",
       "      <td>NaN</td>\n",
       "    </tr>\n",
       "    <tr>\n",
       "      <th>1229</th>\n",
       "      <td>NaN</td>\n",
       "    </tr>\n",
       "  </tbody>\n",
       "</table>\n",
       "<p>1230 rows × 1 columns</p>\n",
       "</div>"
      ],
      "text/plain": [
       "     score1\n",
       "0     126.0\n",
       "1     123.0\n",
       "2     107.0\n",
       "3     113.0\n",
       "4     115.0\n",
       "...     ...\n",
       "1225    NaN\n",
       "1226    NaN\n",
       "1227    NaN\n",
       "1228    NaN\n",
       "1229    NaN\n",
       "\n",
       "[1230 rows x 1 columns]"
      ]
     },
     "execution_count": 23,
     "metadata": {},
     "output_type": "execute_result"
    }
   ],
   "source": [
    "source"
   ]
  },
  {
   "cell_type": "code",
   "execution_count": 24,
   "metadata": {},
   "outputs": [],
   "source": [
    "#Ich möchte die NaN Werte entfernen\n",
    "\n",
    "SourceClean =source.dropna(how='all')"
   ]
  },
  {
   "cell_type": "code",
   "execution_count": 25,
   "metadata": {},
   "outputs": [
    {
     "data": {
      "text/html": [
       "<div>\n",
       "<style scoped>\n",
       "    .dataframe tbody tr th:only-of-type {\n",
       "        vertical-align: middle;\n",
       "    }\n",
       "\n",
       "    .dataframe tbody tr th {\n",
       "        vertical-align: top;\n",
       "    }\n",
       "\n",
       "    .dataframe thead th {\n",
       "        text-align: right;\n",
       "    }\n",
       "</style>\n",
       "<table border=\"1\" class=\"dataframe\">\n",
       "  <thead>\n",
       "    <tr style=\"text-align: right;\">\n",
       "      <th></th>\n",
       "      <th>score1</th>\n",
       "    </tr>\n",
       "  </thead>\n",
       "  <tbody>\n",
       "    <tr>\n",
       "      <th>0</th>\n",
       "      <td>126.0</td>\n",
       "    </tr>\n",
       "    <tr>\n",
       "      <th>1</th>\n",
       "      <td>123.0</td>\n",
       "    </tr>\n",
       "    <tr>\n",
       "      <th>2</th>\n",
       "      <td>107.0</td>\n",
       "    </tr>\n",
       "    <tr>\n",
       "      <th>3</th>\n",
       "      <td>113.0</td>\n",
       "    </tr>\n",
       "    <tr>\n",
       "      <th>4</th>\n",
       "      <td>115.0</td>\n",
       "    </tr>\n",
       "    <tr>\n",
       "      <th>...</th>\n",
       "      <td>...</td>\n",
       "    </tr>\n",
       "    <tr>\n",
       "      <th>199</th>\n",
       "      <td>105.0</td>\n",
       "    </tr>\n",
       "    <tr>\n",
       "      <th>200</th>\n",
       "      <td>113.0</td>\n",
       "    </tr>\n",
       "    <tr>\n",
       "      <th>201</th>\n",
       "      <td>126.0</td>\n",
       "    </tr>\n",
       "    <tr>\n",
       "      <th>202</th>\n",
       "      <td>106.0</td>\n",
       "    </tr>\n",
       "    <tr>\n",
       "      <th>203</th>\n",
       "      <td>106.0</td>\n",
       "    </tr>\n",
       "  </tbody>\n",
       "</table>\n",
       "<p>204 rows × 1 columns</p>\n",
       "</div>"
      ],
      "text/plain": [
       "    score1\n",
       "0    126.0\n",
       "1    123.0\n",
       "2    107.0\n",
       "3    113.0\n",
       "4    115.0\n",
       "..     ...\n",
       "199  105.0\n",
       "200  113.0\n",
       "201  126.0\n",
       "202  106.0\n",
       "203  106.0\n",
       "\n",
       "[204 rows x 1 columns]"
      ]
     },
     "execution_count": 25,
     "metadata": {},
     "output_type": "execute_result"
    }
   ],
   "source": [
    "SourceClean"
   ]
  },
  {
   "cell_type": "code",
   "execution_count": null,
   "metadata": {},
   "outputs": [],
   "source": [
    "alt.Chart(source).mark_bar().encode(\n",
    "    x='homeownership',\n",
    "    y=alt.Y('count(homeownership)')\n",
    ")"
   ]
  },
  {
   "cell_type": "markdown",
   "metadata": {},
   "source": []
  }
 ],
 "metadata": {
  "kernelspec": {
   "display_name": "Python 3",
   "language": "python",
   "name": "python3"
  },
  "language_info": {
   "codemirror_mode": {
    "name": "ipython",
    "version": 3
   },
   "file_extension": ".py",
   "mimetype": "text/x-python",
   "name": "python",
   "nbconvert_exporter": "python",
   "pygments_lexer": "ipython3",
   "version": "3.9.13"
  },
  "orig_nbformat": 4,
  "vscode": {
   "interpreter": {
    "hash": "6ecefd7b8bfcf57efb5cc130173e6ed36c52dd59eb123faecd1d895ae54b15db"
   }
  }
 },
 "nbformat": 4,
 "nbformat_minor": 2
}
