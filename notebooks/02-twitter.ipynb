{
 "cells": [
  {
   "cell_type": "markdown",
   "metadata": {},
   "source": [
    "# Twitter\n",
    "\n",
    "---\n",
    "\n",
    "Group name: O\n",
    "\n",
    "---\n"
   ]
  },
  {
   "cell_type": "markdown",
   "metadata": {},
   "source": [
    "**Import von Tweepy**\n"
   ]
  },
  {
   "cell_type": "code",
   "execution_count": 32,
   "metadata": {
    "slideshow": {
     "slide_type": "fragment"
    }
   },
   "outputs": [],
   "source": [
    "import tweepy"
   ]
  },
  {
   "cell_type": "markdown",
   "metadata": {},
   "source": [
    "**Import der Passwörter**"
   ]
  },
  {
   "cell_type": "code",
   "execution_count": 33,
   "metadata": {
    "slideshow": {
     "slide_type": "fragment"
    }
   },
   "outputs": [],
   "source": [
    "from keys import *"
   ]
  },
  {
   "cell_type": "markdown",
   "metadata": {},
   "source": [
    "**Import von Requests und Erstellen des Clients**"
   ]
  },
  {
   "cell_type": "code",
   "execution_count": 34,
   "metadata": {
    "slideshow": {
     "slide_type": "fragment"
    }
   },
   "outputs": [],
   "source": [
    "import requests\n",
    "\n",
    "client = tweepy.Client( bearer_token=bearer_token, \n",
    "                        consumer_key=consumer_key, \n",
    "                        consumer_secret=consumer_secret, \n",
    "                        access_token=access_token, \n",
    "                        access_token_secret=access_token_secret, \n",
    "                        return_type = requests.Response,\n",
    "                        wait_on_rate_limit=True)"
   ]
  },
  {
   "cell_type": "markdown",
   "metadata": {
    "slideshow": {
     "slide_type": "fragment"
    }
   },
   "source": [
    "**Erstellen einer Query**"
   ]
  },
  {
   "cell_type": "code",
   "execution_count": 35,
   "metadata": {},
   "outputs": [],
   "source": [
    "FTE_query = 'from:FiveThirtyEight -is:retweet'"
   ]
  },
  {
   "cell_type": "markdown",
   "metadata": {},
   "source": [
    "**Tweets der letzten 7 Tage erhalten**"
   ]
  },
  {
   "cell_type": "code",
   "execution_count": 37,
   "metadata": {
    "slideshow": {
     "slide_type": "slide"
    }
   },
   "outputs": [],
   "source": [
    "tweets = client.search_recent_tweets(query=FTE_query, \n",
    "                                    tweet_fields=['author_id', 'created_at'],\n",
    "                                     max_results=100)"
   ]
  },
  {
   "cell_type": "markdown",
   "metadata": {
    "slideshow": {
     "slide_type": "slide"
    }
   },
   "source": [
    "**Tweets in ein Dataframe eintragen**"
   ]
  },
  {
   "cell_type": "code",
   "execution_count": 38,
   "metadata": {
    "slideshow": {
     "slide_type": "slide"
    }
   },
   "outputs": [],
   "source": [
    "import pandas as pd"
   ]
  },
  {
   "cell_type": "code",
   "execution_count": 39,
   "metadata": {},
   "outputs": [],
   "source": [
    "tweets_dict = tweets.json()"
   ]
  },
  {
   "cell_type": "code",
   "execution_count": 40,
   "metadata": {},
   "outputs": [],
   "source": [
    "tweets_data = tweets_dict['data'] "
   ]
  },
  {
   "cell_type": "code",
   "execution_count": 41,
   "metadata": {},
   "outputs": [],
   "source": [
    "df = pd.json_normalize(tweets_data) "
   ]
  },
  {
   "cell_type": "markdown",
   "metadata": {},
   "source": [
    "**Das Dataframe ausgeben**"
   ]
  },
  {
   "cell_type": "code",
   "execution_count": 42,
   "metadata": {
    "slideshow": {
     "slide_type": "slide"
    }
   },
   "outputs": [
    {
     "data": {
      "text/html": [
       "<div>\n",
       "<style scoped>\n",
       "    .dataframe tbody tr th:only-of-type {\n",
       "        vertical-align: middle;\n",
       "    }\n",
       "\n",
       "    .dataframe tbody tr th {\n",
       "        vertical-align: top;\n",
       "    }\n",
       "\n",
       "    .dataframe thead th {\n",
       "        text-align: right;\n",
       "    }\n",
       "</style>\n",
       "<table border=\"1\" class=\"dataframe\">\n",
       "  <thead>\n",
       "    <tr style=\"text-align: right;\">\n",
       "      <th></th>\n",
       "      <th>created_at</th>\n",
       "      <th>edit_history_tweet_ids</th>\n",
       "      <th>id</th>\n",
       "      <th>text</th>\n",
       "      <th>author_id</th>\n",
       "    </tr>\n",
       "  </thead>\n",
       "  <tbody>\n",
       "    <tr>\n",
       "      <th>0</th>\n",
       "      <td>2022-11-13T15:48:26.000Z</td>\n",
       "      <td>[1591820292451606528]</td>\n",
       "      <td>1591820292451606528</td>\n",
       "      <td>Last night, ABC News reported that Catherine C...</td>\n",
       "      <td>2303751216</td>\n",
       "    </tr>\n",
       "    <tr>\n",
       "      <th>1</th>\n",
       "      <td>2022-11-12T04:07:10.000Z</td>\n",
       "      <td>[1591281421733474304]</td>\n",
       "      <td>1591281421733474304</td>\n",
       "      <td>Karen Bass took the lead over Rick Caruso in t...</td>\n",
       "      <td>2303751216</td>\n",
       "    </tr>\n",
       "    <tr>\n",
       "      <th>2</th>\n",
       "      <td>2022-11-12T03:42:37.000Z</td>\n",
       "      <td>[1591275246421770241]</td>\n",
       "      <td>1591275246421770241</td>\n",
       "      <td>Latest election results --&amp;gt; https://t.co/Vs...</td>\n",
       "      <td>2303751216</td>\n",
       "    </tr>\n",
       "    <tr>\n",
       "      <th>3</th>\n",
       "      <td>2022-11-12T03:40:57.000Z</td>\n",
       "      <td>[1591274823443189762]</td>\n",
       "      <td>1591274823443189762</td>\n",
       "      <td>With the latest update from Maricopa County, H...</td>\n",
       "      <td>2303751216</td>\n",
       "    </tr>\n",
       "    <tr>\n",
       "      <th>4</th>\n",
       "      <td>2022-11-12T03:39:45.000Z</td>\n",
       "      <td>[1591274521410949120]</td>\n",
       "      <td>1591274521410949120</td>\n",
       "      <td>ABC News is reporting that Democrat Adrian Fon...</td>\n",
       "      <td>2303751216</td>\n",
       "    </tr>\n",
       "    <tr>\n",
       "      <th>...</th>\n",
       "      <td>...</td>\n",
       "      <td>...</td>\n",
       "      <td>...</td>\n",
       "      <td>...</td>\n",
       "      <td>...</td>\n",
       "    </tr>\n",
       "    <tr>\n",
       "      <th>95</th>\n",
       "      <td>2022-11-09T07:36:33.000Z</td>\n",
       "      <td>[1590246951018442753]</td>\n",
       "      <td>1590246951018442753</td>\n",
       "      <td>In Alaska’s Senate race, Republican Kelly Tshi...</td>\n",
       "      <td>2303751216</td>\n",
       "    </tr>\n",
       "    <tr>\n",
       "      <th>96</th>\n",
       "      <td>2022-11-09T07:28:26.000Z</td>\n",
       "      <td>[1590244908023308289]</td>\n",
       "      <td>1590244908023308289</td>\n",
       "      <td>It looks like Georgia’s Senate race is headed ...</td>\n",
       "      <td>2303751216</td>\n",
       "    </tr>\n",
       "    <tr>\n",
       "      <th>97</th>\n",
       "      <td>2022-11-09T07:23:01.000Z</td>\n",
       "      <td>[1590243548808593408]</td>\n",
       "      <td>1590243548808593408</td>\n",
       "      <td>The status of \"Lean Republican\" governors race...</td>\n",
       "      <td>2303751216</td>\n",
       "    </tr>\n",
       "    <tr>\n",
       "      <th>98</th>\n",
       "      <td>2022-11-09T07:21:39.000Z</td>\n",
       "      <td>[1590243202337951744]</td>\n",
       "      <td>1590243202337951744</td>\n",
       "      <td>LATE NIGHT MODEL TALK: https://t.co/PeXDsUrYEe</td>\n",
       "      <td>2303751216</td>\n",
       "    </tr>\n",
       "    <tr>\n",
       "      <th>99</th>\n",
       "      <td>2022-11-09T07:19:33.000Z</td>\n",
       "      <td>[1590242674069700608]</td>\n",
       "      <td>1590242674069700608</td>\n",
       "      <td>With Fetterman’s projected win, Oz is now the ...</td>\n",
       "      <td>2303751216</td>\n",
       "    </tr>\n",
       "  </tbody>\n",
       "</table>\n",
       "<p>100 rows × 5 columns</p>\n",
       "</div>"
      ],
      "text/plain": [
       "                  created_at edit_history_tweet_ids                   id  \\\n",
       "0   2022-11-13T15:48:26.000Z  [1591820292451606528]  1591820292451606528   \n",
       "1   2022-11-12T04:07:10.000Z  [1591281421733474304]  1591281421733474304   \n",
       "2   2022-11-12T03:42:37.000Z  [1591275246421770241]  1591275246421770241   \n",
       "3   2022-11-12T03:40:57.000Z  [1591274823443189762]  1591274823443189762   \n",
       "4   2022-11-12T03:39:45.000Z  [1591274521410949120]  1591274521410949120   \n",
       "..                       ...                    ...                  ...   \n",
       "95  2022-11-09T07:36:33.000Z  [1590246951018442753]  1590246951018442753   \n",
       "96  2022-11-09T07:28:26.000Z  [1590244908023308289]  1590244908023308289   \n",
       "97  2022-11-09T07:23:01.000Z  [1590243548808593408]  1590243548808593408   \n",
       "98  2022-11-09T07:21:39.000Z  [1590243202337951744]  1590243202337951744   \n",
       "99  2022-11-09T07:19:33.000Z  [1590242674069700608]  1590242674069700608   \n",
       "\n",
       "                                                 text   author_id  \n",
       "0   Last night, ABC News reported that Catherine C...  2303751216  \n",
       "1   Karen Bass took the lead over Rick Caruso in t...  2303751216  \n",
       "2   Latest election results --&gt; https://t.co/Vs...  2303751216  \n",
       "3   With the latest update from Maricopa County, H...  2303751216  \n",
       "4   ABC News is reporting that Democrat Adrian Fon...  2303751216  \n",
       "..                                                ...         ...  \n",
       "95  In Alaska’s Senate race, Republican Kelly Tshi...  2303751216  \n",
       "96  It looks like Georgia’s Senate race is headed ...  2303751216  \n",
       "97  The status of \"Lean Republican\" governors race...  2303751216  \n",
       "98     LATE NIGHT MODEL TALK: https://t.co/PeXDsUrYEe  2303751216  \n",
       "99  With Fetterman’s projected win, Oz is now the ...  2303751216  \n",
       "\n",
       "[100 rows x 5 columns]"
      ]
     },
     "execution_count": 42,
     "metadata": {},
     "output_type": "execute_result"
    }
   ],
   "source": [
    "df"
   ]
  },
  {
   "cell_type": "markdown",
   "metadata": {},
   "source": [
    "**Speichern des Dataframes in einer CSV Datei**"
   ]
  },
  {
   "cell_type": "code",
   "execution_count": 43,
   "metadata": {
    "slideshow": {
     "slide_type": "slide"
    }
   },
   "outputs": [],
   "source": [
    "df.to_csv(\"tweets-FTE.csv\")"
   ]
  },
  {
   "cell_type": "code",
   "execution_count": null,
   "metadata": {},
   "outputs": [],
   "source": []
  }
 ],
 "metadata": {
  "kernelspec": {
   "display_name": "Python 3.9.12 ('base')",
   "language": "python",
   "name": "python3"
  },
  "language_info": {
   "codemirror_mode": {
    "name": "ipython",
    "version": 3
   },
   "file_extension": ".py",
   "mimetype": "text/x-python",
   "name": "python",
   "nbconvert_exporter": "python",
   "pygments_lexer": "ipython3",
   "version": "3.9.13"
  },
  "orig_nbformat": 4,
  "vscode": {
   "interpreter": {
    "hash": "463226f144cc21b006ce6927bfc93dd00694e52c8bc6857abb6e555b983749e9"
   }
  }
 },
 "nbformat": 4,
 "nbformat_minor": 2
}
