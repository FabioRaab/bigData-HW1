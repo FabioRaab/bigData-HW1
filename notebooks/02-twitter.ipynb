{
 "cells": [
  {
   "cell_type": "markdown",
   "metadata": {},
   "source": [
    "# Twitter\n",
    "\n",
    "---\n",
    "\n",
    "Group name: O\n",
    "\n",
    "---\n"
   ]
  },
  {
   "cell_type": "markdown",
   "metadata": {},
   "source": [
    "**Import von Tweepy**\n"
   ]
  },
  {
   "cell_type": "code",
   "execution_count": 1,
   "metadata": {
    "slideshow": {
     "slide_type": "fragment"
    }
   },
   "outputs": [],
   "source": [
    "import tweepy"
   ]
  },
  {
   "cell_type": "markdown",
   "metadata": {},
   "source": [
    "**Import der Passwörter**"
   ]
  },
  {
   "cell_type": "code",
   "execution_count": 2,
   "metadata": {
    "slideshow": {
     "slide_type": "fragment"
    }
   },
   "outputs": [],
   "source": [
    "from keys import *"
   ]
  },
  {
   "cell_type": "markdown",
   "metadata": {},
   "source": [
    "**Import von Requests und Erstellen des Clients**"
   ]
  },
  {
   "cell_type": "code",
   "execution_count": 3,
   "metadata": {
    "slideshow": {
     "slide_type": "fragment"
    }
   },
   "outputs": [],
   "source": [
    "import requests\n",
    "\n",
    "client = tweepy.Client( bearer_token=bearer_token, \n",
    "                        consumer_key=consumer_key, \n",
    "                        consumer_secret=consumer_secret, \n",
    "                        access_token=access_token, \n",
    "                        access_token_secret=access_token_secret, \n",
    "                        return_type = requests.Response,\n",
    "                        wait_on_rate_limit=True)"
   ]
  },
  {
   "cell_type": "markdown",
   "metadata": {
    "slideshow": {
     "slide_type": "fragment"
    }
   },
   "source": [
    "**Erstellen einer Query**"
   ]
  },
  {
   "cell_type": "code",
   "execution_count": 4,
   "metadata": {},
   "outputs": [],
   "source": [
    "FTE_query = 'from:FiveThirtyEight -is:retweet'"
   ]
  },
  {
   "cell_type": "markdown",
   "metadata": {},
   "source": [
    "**Tweets der letzten 7 Tage erhalten**"
   ]
  },
  {
   "cell_type": "code",
   "execution_count": 5,
   "metadata": {
    "slideshow": {
     "slide_type": "slide"
    }
   },
   "outputs": [],
   "source": [
    "tweets = client.search_recent_tweets(query=FTE_query, \n",
    "                                    tweet_fields=['author_id', 'created_at'],\n",
    "                                     max_results=100)"
   ]
  },
  {
   "cell_type": "markdown",
   "metadata": {
    "slideshow": {
     "slide_type": "slide"
    }
   },
   "source": [
    "**Tweets in ein Dataframe eintragen**"
   ]
  },
  {
   "cell_type": "code",
   "execution_count": 6,
   "metadata": {
    "slideshow": {
     "slide_type": "slide"
    }
   },
   "outputs": [],
   "source": [
    "import pandas as pd"
   ]
  },
  {
   "cell_type": "code",
   "execution_count": 7,
   "metadata": {},
   "outputs": [],
   "source": [
    "tweets_dict = tweets.json()"
   ]
  },
  {
   "cell_type": "code",
   "execution_count": 8,
   "metadata": {},
   "outputs": [],
   "source": [
    "tweets_data = tweets_dict['data'] "
   ]
  },
  {
   "cell_type": "code",
   "execution_count": 9,
   "metadata": {},
   "outputs": [],
   "source": [
    "df = pd.json_normalize(tweets_data) "
   ]
  },
  {
   "cell_type": "markdown",
   "metadata": {},
   "source": [
    "**Das Dataframe ausgeben**"
   ]
  },
  {
   "cell_type": "code",
   "execution_count": 10,
   "metadata": {
    "slideshow": {
     "slide_type": "slide"
    }
   },
   "outputs": [
    {
     "data": {
      "text/html": [
       "<div>\n",
       "<style scoped>\n",
       "    .dataframe tbody tr th:only-of-type {\n",
       "        vertical-align: middle;\n",
       "    }\n",
       "\n",
       "    .dataframe tbody tr th {\n",
       "        vertical-align: top;\n",
       "    }\n",
       "\n",
       "    .dataframe thead th {\n",
       "        text-align: right;\n",
       "    }\n",
       "</style>\n",
       "<table border=\"1\" class=\"dataframe\">\n",
       "  <thead>\n",
       "    <tr style=\"text-align: right;\">\n",
       "      <th></th>\n",
       "      <th>id</th>\n",
       "      <th>text</th>\n",
       "      <th>author_id</th>\n",
       "      <th>edit_history_tweet_ids</th>\n",
       "      <th>created_at</th>\n",
       "    </tr>\n",
       "  </thead>\n",
       "  <tbody>\n",
       "    <tr>\n",
       "      <th>0</th>\n",
       "      <td>1605763580183384066</td>\n",
       "      <td>The teams that won, lost and confused us this ...</td>\n",
       "      <td>2303751216</td>\n",
       "      <td>[1605763580183384066]</td>\n",
       "      <td>2022-12-22T03:14:05.000Z</td>\n",
       "    </tr>\n",
       "    <tr>\n",
       "      <th>1</th>\n",
       "      <td>1605758533701701632</td>\n",
       "      <td>33 cool charts we made in 2022: https://t.co/W...</td>\n",
       "      <td>2303751216</td>\n",
       "      <td>[1605758533701701632]</td>\n",
       "      <td>2022-12-22T02:54:02.000Z</td>\n",
       "    </tr>\n",
       "    <tr>\n",
       "      <th>2</th>\n",
       "      <td>1605753516898881536</td>\n",
       "      <td>Can you solve this pizza puzzle? https://t.co/...</td>\n",
       "      <td>2303751216</td>\n",
       "      <td>[1605753516898881536]</td>\n",
       "      <td>2022-12-22T02:34:06.000Z</td>\n",
       "    </tr>\n",
       "    <tr>\n",
       "      <th>3</th>\n",
       "      <td>1605748461088931841</td>\n",
       "      <td>The number that captures the impact of the Dob...</td>\n",
       "      <td>2303751216</td>\n",
       "      <td>[1605748461088931841]</td>\n",
       "      <td>2022-12-22T02:14:01.000Z</td>\n",
       "    </tr>\n",
       "    <tr>\n",
       "      <th>4</th>\n",
       "      <td>1605743435796942848</td>\n",
       "      <td>An updating calculation of President Biden's a...</td>\n",
       "      <td>2303751216</td>\n",
       "      <td>[1605743435796942848]</td>\n",
       "      <td>2022-12-22T01:54:03.000Z</td>\n",
       "    </tr>\n",
       "    <tr>\n",
       "      <th>...</th>\n",
       "      <td>...</td>\n",
       "      <td>...</td>\n",
       "      <td>...</td>\n",
       "      <td>...</td>\n",
       "      <td>...</td>\n",
       "    </tr>\n",
       "    <tr>\n",
       "      <th>95</th>\n",
       "      <td>1603899034871238662</td>\n",
       "      <td>Mbappé vs. Messi is the #WorldCup final soccer...</td>\n",
       "      <td>2303751216</td>\n",
       "      <td>[1603899034871238662]</td>\n",
       "      <td>2022-12-16T23:45:03.000Z</td>\n",
       "    </tr>\n",
       "    <tr>\n",
       "      <th>96</th>\n",
       "      <td>1603891542531473408</td>\n",
       "      <td>The best NFL receivers, according to ESPN anal...</td>\n",
       "      <td>2303751216</td>\n",
       "      <td>[1603891542531473408]</td>\n",
       "      <td>2022-12-16T23:15:17.000Z</td>\n",
       "    </tr>\n",
       "    <tr>\n",
       "      <th>97</th>\n",
       "      <td>1603890743315144704</td>\n",
       "      <td>While homelessness decreased nationally betwee...</td>\n",
       "      <td>2303751216</td>\n",
       "      <td>[1603890743315144704]</td>\n",
       "      <td>2022-12-16T23:12:06.000Z</td>\n",
       "    </tr>\n",
       "    <tr>\n",
       "      <th>98</th>\n",
       "      <td>1603882683410571265</td>\n",
       "      <td>The World Cup's new high-tech ball will change...</td>\n",
       "      <td>2303751216</td>\n",
       "      <td>[1603882683410571265]</td>\n",
       "      <td>2022-12-16T22:40:05.000Z</td>\n",
       "    </tr>\n",
       "    <tr>\n",
       "      <th>99</th>\n",
       "      <td>1603875119817973797</td>\n",
       "      <td>How Republicans won the majority of Latino vot...</td>\n",
       "      <td>2303751216</td>\n",
       "      <td>[1603875119817973797]</td>\n",
       "      <td>2022-12-16T22:10:01.000Z</td>\n",
       "    </tr>\n",
       "  </tbody>\n",
       "</table>\n",
       "<p>100 rows × 5 columns</p>\n",
       "</div>"
      ],
      "text/plain": [
       "                     id                                               text  \\\n",
       "0   1605763580183384066  The teams that won, lost and confused us this ...   \n",
       "1   1605758533701701632  33 cool charts we made in 2022: https://t.co/W...   \n",
       "2   1605753516898881536  Can you solve this pizza puzzle? https://t.co/...   \n",
       "3   1605748461088931841  The number that captures the impact of the Dob...   \n",
       "4   1605743435796942848  An updating calculation of President Biden's a...   \n",
       "..                  ...                                                ...   \n",
       "95  1603899034871238662  Mbappé vs. Messi is the #WorldCup final soccer...   \n",
       "96  1603891542531473408  The best NFL receivers, according to ESPN anal...   \n",
       "97  1603890743315144704  While homelessness decreased nationally betwee...   \n",
       "98  1603882683410571265  The World Cup's new high-tech ball will change...   \n",
       "99  1603875119817973797  How Republicans won the majority of Latino vot...   \n",
       "\n",
       "     author_id edit_history_tweet_ids                created_at  \n",
       "0   2303751216  [1605763580183384066]  2022-12-22T03:14:05.000Z  \n",
       "1   2303751216  [1605758533701701632]  2022-12-22T02:54:02.000Z  \n",
       "2   2303751216  [1605753516898881536]  2022-12-22T02:34:06.000Z  \n",
       "3   2303751216  [1605748461088931841]  2022-12-22T02:14:01.000Z  \n",
       "4   2303751216  [1605743435796942848]  2022-12-22T01:54:03.000Z  \n",
       "..         ...                    ...                       ...  \n",
       "95  2303751216  [1603899034871238662]  2022-12-16T23:45:03.000Z  \n",
       "96  2303751216  [1603891542531473408]  2022-12-16T23:15:17.000Z  \n",
       "97  2303751216  [1603890743315144704]  2022-12-16T23:12:06.000Z  \n",
       "98  2303751216  [1603882683410571265]  2022-12-16T22:40:05.000Z  \n",
       "99  2303751216  [1603875119817973797]  2022-12-16T22:10:01.000Z  \n",
       "\n",
       "[100 rows x 5 columns]"
      ]
     },
     "execution_count": 10,
     "metadata": {},
     "output_type": "execute_result"
    }
   ],
   "source": [
    "df"
   ]
  },
  {
   "cell_type": "markdown",
   "metadata": {},
   "source": [
    "**Speichern des Dataframes in einer CSV Datei**"
   ]
  },
  {
   "cell_type": "code",
   "execution_count": 11,
   "metadata": {
    "slideshow": {
     "slide_type": "slide"
    }
   },
   "outputs": [],
   "source": [
    "df.to_csv(\"tweets-FTE.csv\")"
   ]
  },
  {
   "cell_type": "code",
   "execution_count": null,
   "metadata": {},
   "outputs": [],
   "source": []
  }
 ],
 "metadata": {
  "kernelspec": {
   "display_name": "Python 3",
   "language": "python",
   "name": "python3"
  },
  "language_info": {
   "codemirror_mode": {
    "name": "ipython",
    "version": 3
   },
   "file_extension": ".py",
   "mimetype": "text/x-python",
   "name": "python",
   "nbconvert_exporter": "python",
   "pygments_lexer": "ipython3",
   "version": "3.9.13"
  },
  "orig_nbformat": 4,
  "vscode": {
   "interpreter": {
    "hash": "dbd77b1e3c1992adb99bd5703b1a35238ef80c9857ec220e548dd7830f528ba0"
   }
  }
 },
 "nbformat": 4,
 "nbformat_minor": 2
}
