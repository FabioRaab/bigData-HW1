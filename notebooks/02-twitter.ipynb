{
 "cells": [
  {
   "cell_type": "markdown",
   "metadata": {},
   "source": [
    "# Twitter\n",
    "\n",
    "---\n",
    "\n",
    "Group name: O\n",
    "\n",
    "---\n"
   ]
  },
  {
   "cell_type": "markdown",
   "metadata": {},
   "source": [
    "**Import von Tweepy**\n"
   ]
  },
  {
   "cell_type": "code",
   "execution_count": 1,
   "metadata": {
    "slideshow": {
     "slide_type": "fragment"
    }
   },
   "outputs": [],
   "source": [
    "import tweepy"
   ]
  },
  {
   "cell_type": "markdown",
   "metadata": {},
   "source": [
    "**Import der Passwörter**"
   ]
  },
  {
   "cell_type": "code",
   "execution_count": 2,
   "metadata": {
    "slideshow": {
     "slide_type": "fragment"
    }
   },
   "outputs": [],
   "source": [
    "from keys import *"
   ]
  },
  {
   "cell_type": "markdown",
   "metadata": {},
   "source": [
    "**Import von Requests und Erstellen des Clients**"
   ]
  },
  {
   "cell_type": "code",
   "execution_count": 3,
   "metadata": {
    "slideshow": {
     "slide_type": "fragment"
    }
   },
   "outputs": [],
   "source": [
    "import requests\n",
    "\n",
    "client = tweepy.Client( bearer_token=bearer_token, \n",
    "                        consumer_key=consumer_key, \n",
    "                        consumer_secret=consumer_secret, \n",
    "                        access_token=access_token, \n",
    "                        access_token_secret=access_token_secret, \n",
    "                        return_type = requests.Response,\n",
    "                        wait_on_rate_limit=True)"
   ]
  },
  {
   "cell_type": "markdown",
   "metadata": {
    "slideshow": {
     "slide_type": "fragment"
    }
   },
   "source": [
    "**Erstellen einer Query**"
   ]
  },
  {
   "cell_type": "code",
   "execution_count": 4,
   "metadata": {},
   "outputs": [],
   "source": [
    "FTE_query = 'from:FiveThirtyEight -is:retweet'"
   ]
  },
  {
   "cell_type": "markdown",
   "metadata": {},
   "source": [
    "**Tweets der letzten 7 Tage erhalten**"
   ]
  },
  {
   "cell_type": "code",
   "execution_count": 5,
   "metadata": {
    "slideshow": {
     "slide_type": "slide"
    }
   },
   "outputs": [],
   "source": [
    "tweets = client.search_recent_tweets(query=FTE_query, \n",
    "                                    tweet_fields=['author_id', 'created_at'],\n",
    "                                     max_results=100)"
   ]
  },
  {
   "cell_type": "markdown",
   "metadata": {
    "slideshow": {
     "slide_type": "slide"
    }
   },
   "source": [
    "**Tweets in ein Dataframe eintragen**"
   ]
  },
  {
   "cell_type": "code",
   "execution_count": 6,
   "metadata": {
    "slideshow": {
     "slide_type": "slide"
    }
   },
   "outputs": [],
   "source": [
    "import pandas as pd"
   ]
  },
  {
   "cell_type": "code",
   "execution_count": 7,
   "metadata": {},
   "outputs": [],
   "source": [
    "tweets_dict = tweets.json()"
   ]
  },
  {
   "cell_type": "code",
   "execution_count": 8,
   "metadata": {},
   "outputs": [],
   "source": [
    "tweets_data = tweets_dict['data'] "
   ]
  },
  {
   "cell_type": "code",
   "execution_count": 9,
   "metadata": {},
   "outputs": [],
   "source": [
    "df = pd.json_normalize(tweets_data) "
   ]
  },
  {
   "cell_type": "markdown",
   "metadata": {},
   "source": [
    "**Das Dataframe ausgeben**"
   ]
  },
  {
   "cell_type": "code",
   "execution_count": 10,
   "metadata": {
    "slideshow": {
     "slide_type": "slide"
    }
   },
   "outputs": [
    {
     "data": {
      "text/html": [
       "<div>\n",
       "<style scoped>\n",
       "    .dataframe tbody tr th:only-of-type {\n",
       "        vertical-align: middle;\n",
       "    }\n",
       "\n",
       "    .dataframe tbody tr th {\n",
       "        vertical-align: top;\n",
       "    }\n",
       "\n",
       "    .dataframe thead th {\n",
       "        text-align: right;\n",
       "    }\n",
       "</style>\n",
       "<table border=\"1\" class=\"dataframe\">\n",
       "  <thead>\n",
       "    <tr style=\"text-align: right;\">\n",
       "      <th></th>\n",
       "      <th>id</th>\n",
       "      <th>created_at</th>\n",
       "      <th>author_id</th>\n",
       "      <th>text</th>\n",
       "      <th>edit_history_tweet_ids</th>\n",
       "    </tr>\n",
       "  </thead>\n",
       "  <tbody>\n",
       "    <tr>\n",
       "      <th>0</th>\n",
       "      <td>1593043780483317761</td>\n",
       "      <td>2022-11-17T00:50:09.000Z</td>\n",
       "      <td>2303751216</td>\n",
       "      <td>As expected, Republicans have taken control of...</td>\n",
       "      <td>[1593043780483317761]</td>\n",
       "    </tr>\n",
       "    <tr>\n",
       "      <th>1</th>\n",
       "      <td>1592958101858111488</td>\n",
       "      <td>2022-11-16T19:09:41.000Z</td>\n",
       "      <td>2303751216</td>\n",
       "      <td>Brazil is the favorite and Messi is the star, ...</td>\n",
       "      <td>[1592958101858111488]</td>\n",
       "    </tr>\n",
       "    <tr>\n",
       "      <th>2</th>\n",
       "      <td>1592953772678197250</td>\n",
       "      <td>2022-11-16T18:52:29.000Z</td>\n",
       "      <td>2303751216</td>\n",
       "      <td>🥁\\n🥁\\n🥁\\n🥁\\n🥁\\n🥁\\n🥁\\n🥁\\n🥁\\n🥁\\n\\n--\\n\\nOur 2022...</td>\n",
       "      <td>[1592953772678197250]</td>\n",
       "    </tr>\n",
       "    <tr>\n",
       "      <th>3</th>\n",
       "      <td>1592947382991429633</td>\n",
       "      <td>2022-11-16T18:27:06.000Z</td>\n",
       "      <td>2303751216</td>\n",
       "      <td>How our 2022 World Cup predictions work: https...</td>\n",
       "      <td>[1592947382991429633]</td>\n",
       "    </tr>\n",
       "    <tr>\n",
       "      <th>4</th>\n",
       "      <td>1592942349784698881</td>\n",
       "      <td>2022-11-16T18:07:06.000Z</td>\n",
       "      <td>2303751216</td>\n",
       "      <td>A historic number of women will be governors n...</td>\n",
       "      <td>[1592942349784698881]</td>\n",
       "    </tr>\n",
       "    <tr>\n",
       "      <th>...</th>\n",
       "      <td>...</td>\n",
       "      <td>...</td>\n",
       "      <td>...</td>\n",
       "      <td>...</td>\n",
       "      <td>...</td>\n",
       "    </tr>\n",
       "    <tr>\n",
       "      <th>95</th>\n",
       "      <td>1590736281876672512</td>\n",
       "      <td>2022-11-10T16:00:58.000Z</td>\n",
       "      <td>2303751216</td>\n",
       "      <td>The best NFL receivers, according to ESPN anal...</td>\n",
       "      <td>[1590736281876672512]</td>\n",
       "    </tr>\n",
       "    <tr>\n",
       "      <th>96</th>\n",
       "      <td>1590727764659044352</td>\n",
       "      <td>2022-11-10T15:27:08.000Z</td>\n",
       "      <td>2303751216</td>\n",
       "      <td>Our updating calculation of the president's ap...</td>\n",
       "      <td>[1590727764659044352]</td>\n",
       "    </tr>\n",
       "    <tr>\n",
       "      <th>97</th>\n",
       "      <td>1590721212761935881</td>\n",
       "      <td>2022-11-10T15:01:05.000Z</td>\n",
       "      <td>2303751216</td>\n",
       "      <td>From @natesilver538: Candidate quality mattere...</td>\n",
       "      <td>[1590721212761935881]</td>\n",
       "    </tr>\n",
       "    <tr>\n",
       "      <th>98</th>\n",
       "      <td>1590713420206116864</td>\n",
       "      <td>2022-11-10T14:30:08.000Z</td>\n",
       "      <td>2303751216</td>\n",
       "      <td>Can Democratic Sen. Raphael Warnock pull off a...</td>\n",
       "      <td>[1590713420206116864]</td>\n",
       "    </tr>\n",
       "    <tr>\n",
       "      <th>99</th>\n",
       "      <td>1590701605430743041</td>\n",
       "      <td>2022-11-10T13:43:11.000Z</td>\n",
       "      <td>2303751216</td>\n",
       "      <td>The midterm election results look like a strik...</td>\n",
       "      <td>[1590701605430743041]</td>\n",
       "    </tr>\n",
       "  </tbody>\n",
       "</table>\n",
       "<p>100 rows × 5 columns</p>\n",
       "</div>"
      ],
      "text/plain": [
       "                     id                created_at   author_id  \\\n",
       "0   1593043780483317761  2022-11-17T00:50:09.000Z  2303751216   \n",
       "1   1592958101858111488  2022-11-16T19:09:41.000Z  2303751216   \n",
       "2   1592953772678197250  2022-11-16T18:52:29.000Z  2303751216   \n",
       "3   1592947382991429633  2022-11-16T18:27:06.000Z  2303751216   \n",
       "4   1592942349784698881  2022-11-16T18:07:06.000Z  2303751216   \n",
       "..                  ...                       ...         ...   \n",
       "95  1590736281876672512  2022-11-10T16:00:58.000Z  2303751216   \n",
       "96  1590727764659044352  2022-11-10T15:27:08.000Z  2303751216   \n",
       "97  1590721212761935881  2022-11-10T15:01:05.000Z  2303751216   \n",
       "98  1590713420206116864  2022-11-10T14:30:08.000Z  2303751216   \n",
       "99  1590701605430743041  2022-11-10T13:43:11.000Z  2303751216   \n",
       "\n",
       "                                                 text edit_history_tweet_ids  \n",
       "0   As expected, Republicans have taken control of...  [1593043780483317761]  \n",
       "1   Brazil is the favorite and Messi is the star, ...  [1592958101858111488]  \n",
       "2   🥁\\n🥁\\n🥁\\n🥁\\n🥁\\n🥁\\n🥁\\n🥁\\n🥁\\n🥁\\n\\n--\\n\\nOur 2022...  [1592953772678197250]  \n",
       "3   How our 2022 World Cup predictions work: https...  [1592947382991429633]  \n",
       "4   A historic number of women will be governors n...  [1592942349784698881]  \n",
       "..                                                ...                    ...  \n",
       "95  The best NFL receivers, according to ESPN anal...  [1590736281876672512]  \n",
       "96  Our updating calculation of the president's ap...  [1590727764659044352]  \n",
       "97  From @natesilver538: Candidate quality mattere...  [1590721212761935881]  \n",
       "98  Can Democratic Sen. Raphael Warnock pull off a...  [1590713420206116864]  \n",
       "99  The midterm election results look like a strik...  [1590701605430743041]  \n",
       "\n",
       "[100 rows x 5 columns]"
      ]
     },
     "execution_count": 10,
     "metadata": {},
     "output_type": "execute_result"
    }
   ],
   "source": [
    "df"
   ]
  },
  {
   "cell_type": "markdown",
   "metadata": {},
   "source": [
    "**Speichern des Dataframes in einer CSV Datei**"
   ]
  },
  {
   "cell_type": "code",
   "execution_count": 11,
   "metadata": {
    "slideshow": {
     "slide_type": "slide"
    }
   },
   "outputs": [],
   "source": [
    "df.to_csv(\"tweets-FTE.csv\")"
   ]
  },
  {
   "cell_type": "code",
   "execution_count": null,
   "metadata": {},
   "outputs": [],
   "source": []
  }
 ],
 "metadata": {
  "kernelspec": {
   "display_name": "Python 3.9.13",
   "language": "python",
   "name": "python3"
  },
  "language_info": {
   "codemirror_mode": {
    "name": "ipython",
    "version": 3
   },
   "file_extension": ".py",
   "mimetype": "text/x-python",
   "name": "python",
   "nbconvert_exporter": "python",
   "pygments_lexer": "ipython3",
   "version": "3.9.13 | packaged by conda-forge | (main, May 27 2022, 16:50:36) [MSC v.1929 64 bit (AMD64)]"
  },
  "orig_nbformat": 4,
  "vscode": {
   "interpreter": {
    "hash": "6ecefd7b8bfcf57efb5cc130173e6ed36c52dd59eb123faecd1d895ae54b15db"
   }
  }
 },
 "nbformat": 4,
 "nbformat_minor": 2
}
